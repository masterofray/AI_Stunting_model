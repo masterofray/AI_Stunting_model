{
  "nbformat": 4,
  "nbformat_minor": 0,
  "metadata": {
    "colab": {
      "provenance": [],
      "collapsed_sections": [
        "zOUlY4kTw2Zk",
        "jRbdDTPB85sK",
        "ksyoji7iw7P6"
      ]
    },
    "kernelspec": {
      "name": "python3",
      "display_name": "Python 3"
    },
    "language_info": {
      "name": "python"
    }
  },
  "cells": [
    {
      "cell_type": "markdown",
      "source": [
        "# Model AI terkait Stunting akibat Malnutrisi dan lainnya di Kab. Mamberamo Raya"
      ],
      "metadata": {
        "id": "DC6D1ou92ND1"
      }
    },
    {
      "cell_type": "markdown",
      "source": [
        "Kita akan mencoba melakukan pemodelan dengan XGBoost model"
      ],
      "metadata": {
        "id": "VTDl1haP2TJU"
      }
    },
    {
      "cell_type": "markdown",
      "source": [
        "# Inisialisasi Package"
      ],
      "metadata": {
        "id": "zOUlY4kTw2Zk"
      }
    },
    {
      "cell_type": "code",
      "source": [
        "# General Package\n",
        "import io\n",
        "import logging\n",
        "import warnings\n",
        "import pandas as pd\n",
        "import numpy as np\n",
        "from copy import deepcopy\n",
        "from google.colab import drive\n",
        "\n",
        "warnings.filterwarnings('ignore')\n",
        "pd.options.display.float_format = '{:,.2f}'.format\n",
        "np.random.seed(1)"
      ],
      "metadata": {
        "id": "_Q4EK2NJToxB"
      },
      "execution_count": null,
      "outputs": []
    },
    {
      "cell_type": "code",
      "source": [
        "import matplotlib.pyplot as plt\n",
        "import seaborn as sns\n",
        "\n",
        "%matplotlib inline\n",
        "#sns.set_style('darkgrid')\n",
        "plt.style.use('fivethirtyeight')\n",
        "plt.rcParams['lines.linewidth'] = 1.5\n",
        "dark_style = {\n",
        "    'figure.facecolor': '#212946',\n",
        "    'axes.facecolor': '#212946',\n",
        "    'savefig.facecolor':'#212946',\n",
        "    'axes.grid': True,\n",
        "    'axes.grid.which': 'both',\n",
        "    'axes.spines.left': False,\n",
        "    'axes.spines.right': False,\n",
        "    'axes.spines.top': False,\n",
        "    'axes.spines.bottom': False,\n",
        "    'grid.color': '#2A3459',\n",
        "    'grid.linewidth': '1',\n",
        "    'text.color': '0.9',\n",
        "    'axes.labelcolor': '0.9',\n",
        "    'xtick.color': '0.9',\n",
        "    'ytick.color': '0.9',\n",
        "    'font.size': 12 }\n",
        "plt.rcParams.update(dark_style)\n",
        "\n",
        "from pylab import rcParams\n",
        "rcParams['figure.figsize'] = (12,6)"
      ],
      "metadata": {
        "id": "2xYmYmhHTq9J"
      },
      "execution_count": null,
      "outputs": []
    },
    {
      "cell_type": "code",
      "source": [],
      "metadata": {
        "id": "12eRlrbR77kI"
      },
      "execution_count": null,
      "outputs": []
    },
    {
      "cell_type": "markdown",
      "source": [
        "# Fungsi Visualisasi"
      ],
      "metadata": {
        "id": "jRbdDTPB85sK"
      }
    },
    {
      "cell_type": "code",
      "source": [
        "from bokeh.models import HoverTool, ColumnDataSource, NumeralTickFormatter, DatetimeTickFormatter\n",
        "from bokeh.io import curdoc, output_notebook\n",
        "from bokeh.themes import built_in_themes\n",
        "from bokeh.plotting import figure, show\n",
        "from bokeh.palettes import gray\n",
        "from bokeh.colors import RGB\n",
        "\n",
        "output_notebook()\n",
        "curdoc().theme = built_in_themes['caliber']"
      ],
      "metadata": {
        "id": "iPUIHL4H88a6"
      },
      "execution_count": null,
      "outputs": []
    },
    {
      "cell_type": "code",
      "source": [
        "def BokehPlot_1D(data: pd.DataFrame,\n",
        "                 dates: str = 'date',\n",
        "                 original: str = 'suhu',\n",
        "                 Title: str = 'Grafik Suhu Harian',\n",
        "                 Color: str = '#0a8234',\n",
        "                 date_unit: str = 'day', # Opsi Argumen: 'year', 'month', 'day'\n",
        "                ) -> None:\n",
        "    output_notebook()\n",
        "    curdoc().theme = built_in_themes['caliber']\n",
        "\n",
        "    yourdata = data.copy()\n",
        "    if dates not in yourdata.columns:\n",
        "        yourdata[dates] = yourdata.index\n",
        "\n",
        "\n",
        "    # Grafik inisialisasi\n",
        "    Grafik = figure(title=Title,\n",
        "                    background_fill_color=RGB(242, 242, 242),\n",
        "                    background_fill_alpha=0.85,\n",
        "                    )\n",
        "    Grafik.width = 1200\n",
        "    Grafik.height = 400\n",
        "\n",
        "    # Modifikasi Data\n",
        "    if date_unit == 'month':\n",
        "        yourdata['Penanggalan'] = pd.to_datetime(yourdata[dates], format='%Y-%m', errors='coerce')\n",
        "        Grafik.xaxis.formatter = DatetimeTickFormatter(months=\"%b %Y\")\n",
        "        x_axis_label = 'Bulan'\n",
        "        hover_format = \"@tanggal{%b %Y}\"\n",
        "    elif date_unit == 'year':\n",
        "        yourdata['Penanggalan'] = pd.to_datetime(yourdata[dates], format='%Y', errors='coerce')\n",
        "        Grafik.xaxis.formatter = DatetimeTickFormatter(years=\"%Y\")\n",
        "        x_axis_label = 'Tahun'\n",
        "        hover_format = \"@tanggal{%Y}\"\n",
        "    else:\n",
        "        yourdata['Penanggalan'] = pd.to_datetime(yourdata[dates], format='%Y-%m-%d', errors='coerce')\n",
        "        Grafik.xaxis.formatter = DatetimeTickFormatter(days=\"%d %b %Y\")\n",
        "        x_axis_label = 'Harian'\n",
        "        hover_format = \"@tanggal{%d %b %Y}\"\n",
        "\n",
        "    Grafik.xaxis.axis_label = x_axis_label\n",
        "    Grafik.yaxis.axis_label = original\n",
        "\n",
        "    # Join dataset ke Source\n",
        "    yourdata.dropna(subset=['Penanggalan'], inplace=True)\n",
        "    source = ColumnDataSource(data=dict(\n",
        "        tanggal=yourdata['Penanggalan'],\n",
        "        Original=yourdata[original],\n",
        "    ))\n",
        "\n",
        "    Grafik.line(x='tanggal', y='Original',\n",
        "                source=source, legend_label=original.upper(),\n",
        "                line_width=2, color=Color)\n",
        "\n",
        "    # Hover setting\n",
        "    Tipo = HoverTool()\n",
        "    Tipo.tooltips = [(x_axis_label, hover_format),\n",
        "                     (\"Origin\",   \"@Original{0,.2f}\"),\n",
        "                    ]\n",
        "    Tipo.formatters = {'@tanggal': 'datetime'}\n",
        "    Tipo.mode = 'vline'\n",
        "    Grafik.add_tools(Tipo)\n",
        "\n",
        "    # Customize plot\n",
        "    Grafik.title.align = 'center'\n",
        "    Grafik.title.text_font_size = '20pt'\n",
        "    Grafik.title.text_color = '#d11950'\n",
        "    Grafik.legend.location = 'top_left'\n",
        "    Grafik.legend.click_policy = 'hide'\n",
        "\n",
        "    Grafik.yaxis.formatter = NumeralTickFormatter(format=\"0,0\")\n",
        "    show(Grafik)"
      ],
      "metadata": {
        "id": "pDfEMqSf88VV"
      },
      "execution_count": null,
      "outputs": []
    },
    {
      "cell_type": "code",
      "source": [
        "def Bokeh_Decomposition(DataX : np.ndarray,\n",
        "                        DataY : np.ndarray,\n",
        "                        Judul : str = 'Komponen Trend',\n",
        "                        color : str = \"#d11950\",\n",
        "                       ) -> None :\n",
        "    Data = ColumnDataSource(data=dict(\n",
        "                              x = DataX,\n",
        "                              y = DataY,\n",
        "                            ))\n",
        "\n",
        "    graphDeretWaktu = figure(width        = 1200,\n",
        "                             height       = 250,\n",
        "                             x_axis_type  = \"datetime\",\n",
        "                             x_axis_label = \"Tanggal\",\n",
        "                             y_axis_label = \"Nilai\",\n",
        "                             background_fill_color = gray(20)[17],\n",
        "                             background_fill_alpha = 0.85,\n",
        "                            )\n",
        "\n",
        "    graphDeretWaktu.line('x', 'y',\n",
        "                         source     = Data,\n",
        "                         color      = color,\n",
        "                         line_width = 1,\n",
        "                        )\n",
        "    graphDeretWaktu.title.text           = Judul\n",
        "    graphDeretWaktu.title.text_font_size = \"20pt\"\n",
        "    graphDeretWaktu.title.align          = \"center\"\n",
        "    graphDeretWaktu.title.text_color     = color\n",
        "    graphDeretWaktu.yaxis[0].formatter = NumeralTickFormatter(format=\"0,0\")\n",
        "\n",
        "    THeHover = HoverTool(tooltips=[\n",
        "                        (\"Tanggal\", \"@x{%F}\"),\n",
        "                        (\"Nilai\", \"@y{0,.2f}\")],\n",
        "                        formatters={\"@x\": \"datetime\"\n",
        "                        })\n",
        "    graphDeretWaktu.add_tools(THeHover)\n",
        "    show(graphDeretWaktu)\n"
      ],
      "metadata": {
        "id": "qfVi0CYA88Qn"
      },
      "execution_count": null,
      "outputs": []
    },
    {
      "cell_type": "code",
      "source": [
        "def BokehPlot(mydata      : pd.DataFrame,\n",
        "              dates       : str = 'date',\n",
        "              original    : str = 'Close',\n",
        "              prediksi    : str = 'Forecasting',\n",
        "              batas_atas  : str = 'AutoARIMA-hi-95',\n",
        "              batas_bawah : str = 'AutoARIMA-lo-95',\n",
        "              modelname   : str = 'ARIMA',\n",
        "              title       : str = '',\n",
        "             ) -> None :\n",
        "\n",
        "    output_notebook()\n",
        "    curdoc().theme = built_in_themes['caliber']\n",
        "\n",
        "    yourdata = mydata.copy()\n",
        "    if dates not in yourdata.columns:\n",
        "        yourdata[dates] = yourdata.index\n",
        "\n",
        "    if batas_atas not in yourdata.columns:\n",
        "        data_dict = {\n",
        "            'tanggal': yourdata[dates],\n",
        "            'Original': yourdata[original],\n",
        "            'Predict': yourdata[prediksi]\n",
        "        }\n",
        "        varea = False\n",
        "    else:\n",
        "        data_dict = {\n",
        "            'tanggal': yourdata[dates],\n",
        "            'Original': yourdata[original],\n",
        "            'Predict': yourdata[prediksi],\n",
        "            'upper':yourdata[batas_atas],\n",
        "            'lower':yourdata[batas_bawah],\n",
        "        }\n",
        "        varea = True\n",
        "    DataSumber = ColumnDataSource(data=data_dict)\n",
        "\n",
        "    if len(str(title)) <= 5 :\n",
        "        title = f'Plot {modelname} dalam data Order Demand'\n",
        "    Grafik = figure(title= title,\n",
        "                    x_axis_type='datetime',\n",
        "                    x_axis_label='Tanggal',\n",
        "                    y_axis_label='Besar Order Demand',\n",
        "                    background_fill_color=gray(20)[17],\n",
        "                    background_fill_alpha=0.85,\n",
        "                    )\n",
        "    Grafik.width = 1200\n",
        "    Grafik.height = 400\n",
        "\n",
        "    Grafik.line(x='tanggal', y='Original',\n",
        "                source=DataSumber, legend_label='Besar Order Demand pada Gudang',\n",
        "                line_width=2, color='#252392')\n",
        "    Grafik.line(x='tanggal', y='Predict',\n",
        "                source=DataSumber, legend_label=f'{modelname}',\n",
        "                line_width=2, color='#d40d4c')\n",
        "    if varea :\n",
        "        Grafik.varea(x='tanggal',\n",
        "                     y1='lower',\n",
        "                     y2='upper',\n",
        "                     source=DataSumber,\n",
        "                     color='#61e041',\n",
        "                     alpha=0.7,\n",
        "                     legend_label='95% CI'\n",
        "                    )\n",
        "\n",
        "    Tipo = HoverTool()\n",
        "    Tipo.tooltips = [(\"Tanggal\", \"@tanggal{%F}\"),\n",
        "                     (\"Origin\", \"@Original{0,.2f}\"),\n",
        "                     (modelname, \"@Predict{0,.2f}\"),\n",
        "                     ]\n",
        "    Tipo.formatters = {'@tanggal': 'datetime'}\n",
        "    Grafik.add_tools(Tipo)\n",
        "\n",
        "    Grafik.title.align = 'center'\n",
        "    Grafik.title.text_font_size = '20pt'\n",
        "    Grafik.title.text_color = '#d11950'\n",
        "    Grafik.legend.location = 'top_left'\n",
        "    Grafik.legend.click_policy = 'hide'\n",
        "    Grafik.yaxis.formatter = NumeralTickFormatter(format=\"0,0\")\n",
        "\n",
        "    show(Grafik)"
      ],
      "metadata": {
        "id": "LhW6TGxt88Mh"
      },
      "execution_count": null,
      "outputs": []
    },
    {
      "cell_type": "code",
      "source": [],
      "metadata": {
        "id": "oSvuasXJ88HR"
      },
      "execution_count": null,
      "outputs": []
    },
    {
      "cell_type": "markdown",
      "source": [
        "# Inisialisasi Data"
      ],
      "metadata": {
        "id": "ksyoji7iw7P6"
      }
    },
    {
      "cell_type": "code",
      "source": [
        "drive.mount('/content/Jack', force_remount = True)"
      ],
      "metadata": {
        "id": "xTN_nda8mVgY",
        "colab": {
          "base_uri": "https://localhost:8080/"
        },
        "outputId": "292f0517-5fdb-4287-cd36-6fa5961d9e9a"
      },
      "execution_count": null,
      "outputs": [
        {
          "output_type": "stream",
          "name": "stdout",
          "text": [
            "Mounted at /content/Jack\n"
          ]
        }
      ]
    },
    {
      "cell_type": "code",
      "source": [
        "import os\n",
        "import zipfile as zp\n",
        "\n",
        "def ZipExtract(zpath : str,\n",
        "               paswd : str,\n",
        "               where : str,\n",
        "              ) -> None :\n",
        "    try:\n",
        "        with zp.ZipFile(zpath, 'r') as f:\n",
        "            f.setpassword(paswd.encode('utf-8'))\n",
        "            f.extractall(where)\n",
        "        print(f\"File '{zpath}' berhasil diekstrak.\")\n",
        "        print('Berikut list directory-nya:')\n",
        "        print(os.listdir(where))\n",
        "        return os.path.realpath(os.path.join(where, 'StuntingData.xlsx'))\n",
        "    except zp.BadZipFile:\n",
        "        print(f\"Error: File '{zpath}' bukan file ZIP yang valid atau rusak.\")\n",
        "    except RuntimeError as Arch:\n",
        "        if \"Bad password\" in str(Arch):\n",
        "            print(f\"Error: Kata sandi salah untuk file '{zpath}'.\")\n",
        "        else:\n",
        "            print(f\"Error saat mengekstrak file: {Arch}\")\n",
        "    except FileNotFoundError:\n",
        "        print(f\"Error: File '{zpath}' tidak ditemukan.\")\n",
        "    except Exception as Arch:\n",
        "        print(f\"Terjadi kesalahan tak terduga: {Arch}\")"
      ],
      "metadata": {
        "id": "z0IlDj78_r1S"
      },
      "execution_count": null,
      "outputs": []
    },
    {
      "cell_type": "code",
      "source": [
        "Zippath = '/content/Jack/MyDrive/LECTURE/PAPER 01/StuntingData.zip'\n",
        "#Excelpath = ZipExtract(Zippath, '*******', './')"
      ],
      "metadata": {
        "id": "Vn6bnzmpAzBZ"
      },
      "execution_count": null,
      "outputs": []
    },
    {
      "cell_type": "code",
      "source": [
        "ExcelPath = '/content/Jack/MyDrive/LECTURE/PAPER 01/StuntingData.xlsx'\n",
        "Data = pd.read_excel(ExcelPath)"
      ],
      "metadata": {
        "id": "8FT2c9y2mVdb"
      },
      "execution_count": null,
      "outputs": []
    },
    {
      "cell_type": "code",
      "source": [
        "Data.info()"
      ],
      "metadata": {
        "id": "6yMK6eXOmVaM",
        "colab": {
          "base_uri": "https://localhost:8080/"
        },
        "outputId": "d7206f38-4560-4d0f-9c60-e24ce715043f"
      },
      "execution_count": null,
      "outputs": [
        {
          "output_type": "stream",
          "name": "stdout",
          "text": [
            "<class 'pandas.core.frame.DataFrame'>\n",
            "RangeIndex: 607 entries, 0 to 606\n",
            "Data columns (total 11 columns):\n",
            " #   Column            Non-Null Count  Dtype \n",
            "---  ------            --------------  ----- \n",
            " 0   No                607 non-null    int64 \n",
            " 1   DistrikKecamatan  607 non-null    object\n",
            " 2   Kec_Kode          607 non-null    int64 \n",
            " 3   Y                 607 non-null    int64 \n",
            " 4   X1                607 non-null    int64 \n",
            " 5   X2                607 non-null    int64 \n",
            " 6   X3                607 non-null    int64 \n",
            " 7   X4                607 non-null    int64 \n",
            " 8   X5                607 non-null    int64 \n",
            " 9   X6                607 non-null    int64 \n",
            " 10  X7                607 non-null    int64 \n",
            "dtypes: int64(10), object(1)\n",
            "memory usage: 52.3+ KB\n"
          ]
        }
      ]
    },
    {
      "cell_type": "markdown",
      "source": [
        "Berikut ini adalah detail dari setiap fitur pada data kita.\n",
        "\n",
        "| Variable | Nama Variable | Skala| Kategori | Definisi Operasional |\n",
        "|---|---|---|---|---|\n",
        "| Y| Stunting| Nominal| 1 = Stunting 0 = Tidak Stunting | Kondisi gagal tumbuh pada anak balita akibat kekurangan gizi kronis yang terjadi dalam jangka waktu panjang, terutama pada 1.000 hari pertama kehidupan (sejak dalam kandungan hingga usia dua tahun).|\n",
        "| X1 | Jenis kelamin | Nominal| 1 = Laki-laki 0 = Perempuan | Suatu ciri biologis yang membedakan antara laki-laki dan perempuan yang ditentukan sejak lahir.|\n",
        "| X2 | Level Status Gizi Buruk menurut WHO | Nominal | 0 - 6 dengan 6 sangat bergizi buruk | Status gizi menurut WHO adalah suatu keadaan yang diakibatkan oleh keseimbangan antara asupan gizi dari makanan dengan kebutuhan nutrisi yang diperlukan tubuh untuk metabolism. |\n",
        "| X3 | ASI Eksklusif | Nominal| 1 = Tidak ASI Eksklusif 0 = ASI Eksklusif | Pemberian hanya Air Susu Ibu kepada bayi sejak lahir hingga berusia 6 bulan tanpa tambahan makanan/minuman lain (kecuali obat/vitamin sesuai anjuran medis).|\n",
        "| X4 | Kebiasaan Merokok Dalam Keluarga | Nominal| 1 = Ada Kebiasaan Merokok 0 = Tidak Ada Kebiasaan Merokok | Kondisi di mana terdapat satu atau lebih anggota keluarga yang secara rutin merokok, baik di dalam maupun di sekitar lingkungan rumah tempat anak tinggal. |\n",
        "| X5 | Akses Air Bersih| Nominal| 1 = Tidak Ada Akses Air Bersih 0 = Ada Akses Air Bersih | Kondisi ketersediaan air yang layak dikonsumsi/digunakan sehari-hari. Air bersih berasal dari sumber memenuhi syarat kesehatan (PDAM, sumur/mata air terlindung, air hujan yang dikelola). |\n",
        "| X6 | Jamban Sehat| Nominal| 1 = Tidak Ada Jamban Sehat 0 = Ada Jamban Sehat | Fasilitas sanitasi memenuhi syarat kesehatan: punya leher angsa (water seal), penutup, saluran tertutup, tidak mencemari air. |\n",
        "| X7 | Wilayah Sulit | Nominal| 1 = Sulit 0 = Tidak Sulit | Kategori geografis menggambarkan daerah dengan keterbatasan akses infrastruktur dasar, baik karena kondisi geografis berat, terbatas transportasi, atau jauh dari pusat pelayanan publik. |"
      ],
      "metadata": {
        "id": "Hn3MIsEdZYNi"
      }
    },
    {
      "cell_type": "markdown",
      "source": [
        "# Penggunaan Data pada DuckDB"
      ],
      "metadata": {
        "id": "u68g8iSDxRMf"
      }
    },
    {
      "cell_type": "code",
      "source": [
        "import duckdb\n",
        "\n",
        "PathDB = '/content/Jack/MyDrive/Malnutrition_Paper.db'\n",
        "DuckConnect = duckdb.connect(database = PathDB)"
      ],
      "metadata": {
        "id": "k7-H5bxmVMLh"
      },
      "execution_count": null,
      "outputs": []
    },
    {
      "cell_type": "code",
      "source": [],
      "metadata": {
        "id": "47AAGmdEcLXN"
      },
      "execution_count": null,
      "outputs": []
    },
    {
      "cell_type": "code",
      "source": [],
      "metadata": {
        "id": "WdjAQrpJcLTd"
      },
      "execution_count": null,
      "outputs": []
    },
    {
      "cell_type": "code",
      "source": [],
      "metadata": {
        "id": "myxgeGUicLPe"
      },
      "execution_count": null,
      "outputs": []
    },
    {
      "cell_type": "code",
      "source": [],
      "metadata": {
        "id": "L1Ms39YBcLLw"
      },
      "execution_count": null,
      "outputs": []
    },
    {
      "cell_type": "code",
      "source": [],
      "metadata": {
        "id": "y-xz7bgUcLHz"
      },
      "execution_count": null,
      "outputs": []
    },
    {
      "cell_type": "code",
      "source": [],
      "metadata": {
        "id": "80wAOCO7cLEP"
      },
      "execution_count": null,
      "outputs": []
    },
    {
      "cell_type": "code",
      "source": [],
      "metadata": {
        "id": "erdp4uOVcLA8"
      },
      "execution_count": null,
      "outputs": []
    },
    {
      "cell_type": "code",
      "source": [],
      "metadata": {
        "id": "hpBnpC_ecK9B"
      },
      "execution_count": null,
      "outputs": []
    }
  ]
}