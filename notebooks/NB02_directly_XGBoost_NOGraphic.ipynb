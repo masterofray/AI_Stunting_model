{
  "cells": [
    {
      "cell_type": "markdown",
      "metadata": {
        "id": "DC6D1ou92ND1"
      },
      "source": [
        "# Model AI terkait Stunting akibat Malnutrisi dan lainnya di Kab. Mamberamo Raya"
      ]
    },
    {
      "cell_type": "markdown",
      "metadata": {
        "id": "VTDl1haP2TJU"
      },
      "source": [
        "Kita akan mencoba melakukan pemodelan dengan XGBoost model"
      ]
    },
    {
      "cell_type": "markdown",
      "metadata": {
        "id": "zOUlY4kTw2Zk"
      },
      "source": [
        "# Inisialisasi Package"
      ]
    },
    {
      "cell_type": "code",
      "execution_count": 1,
      "metadata": {
        "id": "sAAcuF8JX_sH"
      },
      "outputs": [],
      "source": [
        "!uv pip install -q optuna lime shap"
      ]
    },
    {
      "cell_type": "code",
      "execution_count": 2,
      "metadata": {
        "id": "_Q4EK2NJToxB"
      },
      "outputs": [],
      "source": [
        "# General Package\n",
        "import io\n",
        "import logging\n",
        "import warnings\n",
        "import pandas as pd\n",
        "import numpy as np\n",
        "from copy import deepcopy\n",
        "from google.colab import drive\n",
        "\n",
        "warnings.filterwarnings('ignore')\n",
        "pd.options.display.float_format = '{:,.2f}'.format\n",
        "np.random.seed(1)"
      ]
    },
    {
      "cell_type": "code",
      "execution_count": 3,
      "metadata": {
        "id": "2xYmYmhHTq9J"
      },
      "outputs": [],
      "source": [
        "import matplotlib.pyplot as plt\n",
        "import seaborn as sns\n",
        "\n",
        "%matplotlib inline\n",
        "#sns.set_style('darkgrid')\n",
        "plt.style.use('fivethirtyeight')\n",
        "plt.rcParams['lines.linewidth'] = 1.5\n",
        "dark_style = {\n",
        "    'figure.facecolor': '#212946',\n",
        "    'axes.facecolor': '#212946',\n",
        "    'savefig.facecolor':'#212946',\n",
        "    'axes.grid': True,\n",
        "    'axes.grid.which': 'both',\n",
        "    'axes.spines.left': False,\n",
        "    'axes.spines.right': False,\n",
        "    'axes.spines.top': False,\n",
        "    'axes.spines.bottom': False,\n",
        "    'grid.color': '#2A3459',\n",
        "    'grid.linewidth': '1',\n",
        "    'text.color': '0.9',\n",
        "    'axes.labelcolor': '0.9',\n",
        "    'xtick.color': '0.9',\n",
        "    'ytick.color': '0.9',\n",
        "    'font.size': 12 }\n",
        "plt.rcParams.update(dark_style)\n",
        "\n",
        "from pylab import rcParams\n",
        "rcParams['figure.figsize'] = (12,6)"
      ]
    },
    {
      "cell_type": "code",
      "execution_count": 3,
      "metadata": {
        "id": "12eRlrbR77kI"
      },
      "outputs": [],
      "source": []
    },
    {
      "cell_type": "markdown",
      "metadata": {
        "id": "jRbdDTPB85sK"
      },
      "source": [
        "# Fungsi Visualisasi"
      ]
    },
    {
      "cell_type": "code",
      "execution_count": 4,
      "metadata": {
        "id": "iPUIHL4H88a6"
      },
      "outputs": [],
      "source": [
        "from bokeh.models import HoverTool, ColumnDataSource, NumeralTickFormatter, DatetimeTickFormatter\n",
        "from bokeh.io import curdoc, output_notebook\n",
        "from bokeh.themes import built_in_themes\n",
        "from bokeh.plotting import figure, show\n",
        "from bokeh.palettes import gray\n",
        "from bokeh.colors import RGB\n",
        "\n",
        "output_notebook()\n",
        "curdoc().theme = built_in_themes['caliber']"
      ]
    },
    {
      "cell_type": "code",
      "execution_count": 5,
      "metadata": {
        "id": "pDfEMqSf88VV"
      },
      "outputs": [],
      "source": [
        "def BokehPlot_1D(data: pd.DataFrame,\n",
        "                 dates: str = 'date',\n",
        "                 original: str = 'suhu',\n",
        "                 Title: str = 'Grafik Suhu Harian',\n",
        "                 Color: str = '#0a8234',\n",
        "                 date_unit: str = 'day', # Opsi Argumen: 'year', 'month', 'day'\n",
        "                ) -> None:\n",
        "    output_notebook()\n",
        "    curdoc().theme = built_in_themes['caliber']\n",
        "\n",
        "    yourdata = data.copy()\n",
        "    if dates not in yourdata.columns:\n",
        "        yourdata[dates] = yourdata.index\n",
        "\n",
        "\n",
        "    # Grafik inisialisasi\n",
        "    Grafik = figure(title=Title,\n",
        "                    background_fill_color=RGB(242, 242, 242),\n",
        "                    background_fill_alpha=0.85,\n",
        "                    )\n",
        "    Grafik.width = 1200\n",
        "    Grafik.height = 400\n",
        "\n",
        "    # Modifikasi Data\n",
        "    if date_unit == 'month':\n",
        "        yourdata['Penanggalan'] = pd.to_datetime(yourdata[dates], format='%Y-%m', errors='coerce')\n",
        "        Grafik.xaxis.formatter = DatetimeTickFormatter(months=\"%b %Y\")\n",
        "        x_axis_label = 'Bulan'\n",
        "        hover_format = \"@tanggal{%b %Y}\"\n",
        "    elif date_unit == 'year':\n",
        "        yourdata['Penanggalan'] = pd.to_datetime(yourdata[dates], format='%Y', errors='coerce')\n",
        "        Grafik.xaxis.formatter = DatetimeTickFormatter(years=\"%Y\")\n",
        "        x_axis_label = 'Tahun'\n",
        "        hover_format = \"@tanggal{%Y}\"\n",
        "    else:\n",
        "        yourdata['Penanggalan'] = pd.to_datetime(yourdata[dates], format='%Y-%m-%d', errors='coerce')\n",
        "        Grafik.xaxis.formatter = DatetimeTickFormatter(days=\"%d %b %Y\")\n",
        "        x_axis_label = 'Harian'\n",
        "        hover_format = \"@tanggal{%d %b %Y}\"\n",
        "\n",
        "    Grafik.xaxis.axis_label = x_axis_label\n",
        "    Grafik.yaxis.axis_label = original\n",
        "\n",
        "    # Join dataset ke Source\n",
        "    yourdata.dropna(subset=['Penanggalan'], inplace=True)\n",
        "    source = ColumnDataSource(data=dict(\n",
        "        tanggal=yourdata['Penanggalan'],\n",
        "        Original=yourdata[original],\n",
        "    ))\n",
        "\n",
        "    Grafik.line(x='tanggal', y='Original',\n",
        "                source=source, legend_label=original.upper(),\n",
        "                line_width=2, color=Color)\n",
        "\n",
        "    # Hover setting\n",
        "    Tipo = HoverTool()\n",
        "    Tipo.tooltips = [(x_axis_label, hover_format),\n",
        "                     (\"Origin\",   \"@Original{0,.2f}\"),\n",
        "                    ]\n",
        "    Tipo.formatters = {'@tanggal': 'datetime'}\n",
        "    Tipo.mode = 'vline'\n",
        "    Grafik.add_tools(Tipo)\n",
        "\n",
        "    # Customize plot\n",
        "    Grafik.title.align = 'center'\n",
        "    Grafik.title.text_font_size = '20pt'\n",
        "    Grafik.title.text_color = '#d11950'\n",
        "    Grafik.legend.location = 'top_left'\n",
        "    Grafik.legend.click_policy = 'hide'\n",
        "\n",
        "    Grafik.yaxis.formatter = NumeralTickFormatter(format=\"0,0\")\n",
        "    show(Grafik)"
      ]
    },
    {
      "cell_type": "code",
      "execution_count": 6,
      "metadata": {
        "id": "qfVi0CYA88Qn"
      },
      "outputs": [],
      "source": [
        "def Bokeh_Decomposition(DataX : np.ndarray,\n",
        "                        DataY : np.ndarray,\n",
        "                        Judul : str = 'Komponen Trend',\n",
        "                        color : str = \"#d11950\",\n",
        "                       ) -> None :\n",
        "    Data = ColumnDataSource(data=dict(\n",
        "                              x = DataX,\n",
        "                              y = DataY,\n",
        "                            ))\n",
        "\n",
        "    graphDeretWaktu = figure(width        = 1200,\n",
        "                             height       = 250,\n",
        "                             x_axis_type  = \"datetime\",\n",
        "                             x_axis_label = \"Tanggal\",\n",
        "                             y_axis_label = \"Nilai\",\n",
        "                             background_fill_color = gray(20)[17],\n",
        "                             background_fill_alpha = 0.85,\n",
        "                            )\n",
        "\n",
        "    graphDeretWaktu.line('x', 'y',\n",
        "                         source     = Data,\n",
        "                         color      = color,\n",
        "                         line_width = 1,\n",
        "                        )\n",
        "    graphDeretWaktu.title.text           = Judul\n",
        "    graphDeretWaktu.title.text_font_size = \"20pt\"\n",
        "    graphDeretWaktu.title.align          = \"center\"\n",
        "    graphDeretWaktu.title.text_color     = color\n",
        "    graphDeretWaktu.yaxis[0].formatter = NumeralTickFormatter(format=\"0,0\")\n",
        "\n",
        "    THeHover = HoverTool(tooltips=[\n",
        "                        (\"Tanggal\", \"@x{%F}\"),\n",
        "                        (\"Nilai\", \"@y{0,.2f}\")],\n",
        "                        formatters={\"@x\": \"datetime\"\n",
        "                        })\n",
        "    graphDeretWaktu.add_tools(THeHover)\n",
        "    show(graphDeretWaktu)\n"
      ]
    },
    {
      "cell_type": "code",
      "execution_count": 7,
      "metadata": {
        "id": "LhW6TGxt88Mh"
      },
      "outputs": [],
      "source": [
        "def BokehPlot(mydata      : pd.DataFrame,\n",
        "              dates       : str = 'date',\n",
        "              original    : str = 'Close',\n",
        "              prediksi    : str = 'Forecasting',\n",
        "              batas_atas  : str = 'AutoARIMA-hi-95',\n",
        "              batas_bawah : str = 'AutoARIMA-lo-95',\n",
        "              modelname   : str = 'ARIMA',\n",
        "              title       : str = '',\n",
        "             ) -> None :\n",
        "\n",
        "    output_notebook()\n",
        "    curdoc().theme = built_in_themes['caliber']\n",
        "\n",
        "    yourdata = mydata.copy()\n",
        "    if dates not in yourdata.columns:\n",
        "        yourdata[dates] = yourdata.index\n",
        "\n",
        "    if batas_atas not in yourdata.columns:\n",
        "        data_dict = {\n",
        "            'tanggal': yourdata[dates],\n",
        "            'Original': yourdata[original],\n",
        "            'Predict': yourdata[prediksi]\n",
        "        }\n",
        "        varea = False\n",
        "    else:\n",
        "        data_dict = {\n",
        "            'tanggal': yourdata[dates],\n",
        "            'Original': yourdata[original],\n",
        "            'Predict': yourdata[prediksi],\n",
        "            'upper':yourdata[batas_atas],\n",
        "            'lower':yourdata[batas_bawah],\n",
        "        }\n",
        "        varea = True\n",
        "    DataSumber = ColumnDataSource(data=data_dict)\n",
        "\n",
        "    if len(str(title)) <= 5 :\n",
        "        title = f'Plot {modelname} dalam data Order Demand'\n",
        "    Grafik = figure(title= title,\n",
        "                    x_axis_type='datetime',\n",
        "                    x_axis_label='Tanggal',\n",
        "                    y_axis_label='Besar Order Demand',\n",
        "                    background_fill_color=gray(20)[17],\n",
        "                    background_fill_alpha=0.85,\n",
        "                    )\n",
        "    Grafik.width = 1200\n",
        "    Grafik.height = 400\n",
        "\n",
        "    Grafik.line(x='tanggal', y='Original',\n",
        "                source=DataSumber, legend_label='Besar Order Demand pada Gudang',\n",
        "                line_width=2, color='#252392')\n",
        "    Grafik.line(x='tanggal', y='Predict',\n",
        "                source=DataSumber, legend_label=f'{modelname}',\n",
        "                line_width=2, color='#d40d4c')\n",
        "    if varea :\n",
        "        Grafik.varea(x='tanggal',\n",
        "                     y1='lower',\n",
        "                     y2='upper',\n",
        "                     source=DataSumber,\n",
        "                     color='#61e041',\n",
        "                     alpha=0.7,\n",
        "                     legend_label='95% CI'\n",
        "                    )\n",
        "\n",
        "    Tipo = HoverTool()\n",
        "    Tipo.tooltips = [(\"Tanggal\", \"@tanggal{%F}\"),\n",
        "                     (\"Origin\", \"@Original{0,.2f}\"),\n",
        "                     (modelname, \"@Predict{0,.2f}\"),\n",
        "                     ]\n",
        "    Tipo.formatters = {'@tanggal': 'datetime'}\n",
        "    Grafik.add_tools(Tipo)\n",
        "\n",
        "    Grafik.title.align = 'center'\n",
        "    Grafik.title.text_font_size = '20pt'\n",
        "    Grafik.title.text_color = '#d11950'\n",
        "    Grafik.legend.location = 'top_left'\n",
        "    Grafik.legend.click_policy = 'hide'\n",
        "    Grafik.yaxis.formatter = NumeralTickFormatter(format=\"0,0\")\n",
        "\n",
        "    show(Grafik)"
      ]
    },
    {
      "cell_type": "code",
      "execution_count": 7,
      "metadata": {
        "id": "oSvuasXJ88HR"
      },
      "outputs": [],
      "source": []
    },
    {
      "cell_type": "markdown",
      "metadata": {
        "id": "u68g8iSDxRMf"
      },
      "source": [
        "# Data Init dari DuckDB"
      ]
    },
    {
      "cell_type": "code",
      "execution_count": null,
      "metadata": {
        "id": "xloL5MR4nxuS"
      },
      "outputs": [],
      "source": [
        "drive.mount('/content/Jack', force_remount = True)"
      ]
    },
    {
      "cell_type": "code",
      "execution_count": null,
      "metadata": {
        "id": "k7-H5bxmVMLh"
      },
      "outputs": [],
      "source": [
        "import duckdb\n",
        "\n",
        "PathDB = '/content/Jack/MyDrive/Malnutrition_Paper.db'\n",
        "DuckConnect = duckdb.connect(database = PathDB)"
      ]
    },
    {
      "cell_type": "code",
      "execution_count": null,
      "metadata": {
        "id": "47AAGmdEcLXN"
      },
      "outputs": [],
      "source": [
        "Tabel = DuckConnect.sql(\"SHOW TABLES;\").df()\n",
        "display(Tabel)"
      ]
    },
    {
      "cell_type": "code",
      "execution_count": null,
      "metadata": {
        "id": "WdjAQrpJcLTd"
      },
      "outputs": [],
      "source": [
        "RawData = DuckConnect.sql(\"SELECT * FROM RawData;\").fetchdf()\n",
        "RawData.describe().T"
      ]
    },
    {
      "cell_type": "code",
      "execution_count": null,
      "metadata": {
        "id": "myxgeGUicLPe"
      },
      "outputs": [],
      "source": [
        "DataProc = RawData.copy()"
      ]
    },
    {
      "cell_type": "code",
      "execution_count": null,
      "metadata": {
        "id": "L1Ms39YBcLLw"
      },
      "outputs": [],
      "source": [
        "X_train = DuckConnect.sql(\"SELECT * FROM Xtraining;\").fetchdf()\n",
        "X_test = DuckConnect.sql(\"SELECT * FROM Xtesting;\").fetchdf()\n",
        "\n",
        "y_train = DuckConnect.sql(\"SELECT * FROM ytraining;\").fetchdf()\n",
        "y_train = y_train['Stunting'].to_numpy()\n",
        "\n",
        "y_test = DuckConnect.sql(\"SELECT * FROM ytesting;\").fetchdf()\n",
        "y_test = y_test['Stunting'].to_numpy()"
      ]
    },
    {
      "cell_type": "code",
      "execution_count": null,
      "metadata": {
        "id": "dKuM0Wg8cndn"
      },
      "outputs": [],
      "source": [
        "print(\"Ukuran Regressor Training adalah \", X_train.shape)\n",
        "print(\"Ukuran Regressor Test adalah \", X_test.shape)\n",
        "print(\"Ukuran target Training adalah \", len(y_train))\n",
        "print(\"Ukuran target Test adalah \", len(y_test))"
      ]
    },
    {
      "cell_type": "code",
      "execution_count": null,
      "metadata": {
        "id": "R6Bm0S4sdSa7"
      },
      "outputs": [],
      "source": [
        "X_train.head()"
      ]
    },
    {
      "cell_type": "code",
      "execution_count": null,
      "metadata": {
        "id": "3VFkY8SrwxiY"
      },
      "outputs": [],
      "source": []
    },
    {
      "cell_type": "markdown",
      "metadata": {
        "id": "Cpr1ThdZwoJu"
      },
      "source": [
        "# XGBoost Modelling"
      ]
    },
    {
      "cell_type": "code",
      "execution_count": null,
      "metadata": {
        "id": "MTZE_6SZ4FHT"
      },
      "outputs": [],
      "source": [
        "from xgboost import XGBClassifier\n",
        "from sklearn.metrics import accuracy_score, classification_report, confusion_matrix"
      ]
    },
    {
      "cell_type": "code",
      "execution_count": null,
      "metadata": {
        "id": "rW4kIWoI4E5O"
      },
      "outputs": [],
      "source": [
        "model = XGBClassifier(objective        = 'binary:logistic',\n",
        "                      n_estimators     = 500,\n",
        "                      max_depth        = 3,\n",
        "                      learning_rate    = 0.1,\n",
        "                      subsample        = 0.8,\n",
        "                      colsample_bytree = 0.8,\n",
        "                      random_state     = 1,\n",
        "                      eval_metric      = 'logloss',\n",
        "                     )\n",
        "\n",
        "model.fit(X_train, y_train)\n",
        "y_pred = model.predict(X_test)"
      ]
    },
    {
      "cell_type": "code",
      "execution_count": null,
      "metadata": {
        "id": "j5HQ_JCE4E1p"
      },
      "outputs": [],
      "source": [
        "OurMetric = accuracy_score(y_test, y_pred)\n",
        "print(f'Performance akurasi dari Model XGBoost sekarang adalah {OurMetric*100:,.2f}%.')"
      ]
    },
    {
      "cell_type": "code",
      "execution_count": null,
      "metadata": {
        "id": "XrL0uyUY_Xkm"
      },
      "outputs": [],
      "source": [
        "from sklearn.metrics import classification_report\n",
        "\n",
        "def ReportClass_Graph(y_test    : np.ndarray,\n",
        "                      y_pred    : np.ndarray,\n",
        "                      forVisual : bool = True,\n",
        "                     ):\n",
        "    TheReport = classification_report(y_test, y_pred, output_dict = True)\n",
        "    TheReport = pd.DataFrame(TheReport).transpose()\n",
        "    TheReport = TheReport.drop(['accuracy', 'macro avg', 'weighted avg'], errors='ignore')\n",
        "    Stunts    = {'0': 'Tidak Stunting', '1': 'Stunting'}\n",
        "    TheReport = TheReport.rename(index = Stunts)\n",
        "    if not forVisual:\n",
        "        return TheReport\n",
        "\n",
        "    plt.figure(figsize=(12, 3))\n",
        "    ax = TheReport[['precision', 'recall', 'f1-score']].plot(\n",
        "                kind  = 'bar',\n",
        "                color = ['#1f77b4', '#ff7f0e', '#2ca02c'],\n",
        "                width = 0.7,\n",
        "                alpha = 0.8)\n",
        "    plt.title('Model XGBoost untuk Prediksi Stunting', pad = 20, fontsize = 18)\n",
        "    plt.xlabel('Kelas Klasifikasi', labelpad=10)\n",
        "    plt.ylabel('Score', labelpad=10)\n",
        "    plt.xticks(rotation=0)\n",
        "    plt.ylim(0, 1.1)\n",
        "\n",
        "    for p in ax.patches:\n",
        "        ax.annotate(\n",
        "            f'{p.get_height()*100:,.1f}%',\n",
        "            (p.get_x() + p.get_width() / 2., p.get_height()),\n",
        "            ha         = 'center',\n",
        "            va         = 'center',\n",
        "            xytext     = (0, 10),\n",
        "            textcoords = 'offset points',\n",
        "            fontsize   = 10,\n",
        "            )\n",
        "\n",
        "    plt.legend(loc = 'upper left')\n",
        "    plt.tight_layout()\n",
        "\n",
        "    #plt.savefig('classification_report_stunting.png', dpi=300, bbox_inches='tight')\n",
        "    plt.show()\n",
        "    return None"
      ]
    },
    {
      "cell_type": "code",
      "execution_count": null,
      "metadata": {
        "id": "-LcivKf2sGM8"
      },
      "outputs": [],
      "source": [
        "ReportClass_Graph(y_test, y_pred, True)"
      ]
    },
    {
      "cell_type": "code",
      "execution_count": null,
      "metadata": {
        "id": "rXJvkH33_5iP"
      },
      "outputs": [],
      "source": [
        "def ConfusionMatrix_Graph(testdata : np.ndarray,\n",
        "                          prediksi : np.ndarray,\n",
        "                         ) -> None :\n",
        "    ConfMax = confusion_matrix(testdata, prediksi)\n",
        "    case    = ['Tidak Stunting', 'Stunting']\n",
        "\n",
        "    plt.figure(figsize = (8, 6))\n",
        "    ax = sns.heatmap(ConfMax,\n",
        "            annot       = True,\n",
        "            fmt         = 'd',\n",
        "            cmap        = 'Blues',\n",
        "            cbar        = False,\n",
        "            xticklabels = case,\n",
        "            yticklabels = case,\n",
        "            annot_kws   = {'size': 16},\n",
        "        )\n",
        "\n",
        "    plt.title('Confusion Matrix Model XGBoost Prediksi', fontsize = 18, pad = 10)\n",
        "    plt.xlabel('Prediksi', fontsize = 14, labelpad = 15)\n",
        "    plt.ylabel('Aktual', fontsize = 14, labelpad = 15)\n",
        "\n",
        "    x, y = ConfMax.shape[0], ConfMax.shape[1]\n",
        "    ax.axhline(y = 0, color='k', linewidth=2)\n",
        "    ax.axhline(y = y, color='k', linewidth=2)\n",
        "    ax.axvline(x = 0, color='k', linewidth=2)\n",
        "    ax.axvline(x = x, color='k', linewidth=2)\n",
        "\n",
        "    for i in range(x):\n",
        "        for j in range(y):\n",
        "            text_color = 'white' if ConfMax[i, j] > ConfMax.max()/2 else 'black'\n",
        "            ax.text(j + 0.5, i + 0.5, str(ConfMax[i, j]),\n",
        "            ha       = 'center',\n",
        "            va       = 'center',\n",
        "            color    = text_color,\n",
        "            fontsize = 14)\n",
        "\n",
        "    plt.tight_layout()\n",
        "    plt.show()"
      ]
    },
    {
      "cell_type": "code",
      "execution_count": null,
      "metadata": {
        "id": "o-arYjRlHbvw"
      },
      "outputs": [],
      "source": [
        "ConfusionMatrix_Graph(y_test, y_pred)"
      ]
    },
    {
      "cell_type": "code",
      "execution_count": null,
      "metadata": {
        "id": "xLZi_LA34b0a"
      },
      "outputs": [],
      "source": []
    },
    {
      "cell_type": "markdown",
      "metadata": {
        "id": "JmfDiH1k4cHL"
      },
      "source": [
        "# Optimalkan Parameter XGBoost"
      ]
    },
    {
      "cell_type": "code",
      "execution_count": null,
      "metadata": {
        "id": "80wAOCO7cLEP"
      },
      "outputs": [],
      "source": [
        "from optuna import create_study as CS\n",
        "from functools import partial\n",
        "from sklearn.model_selection import cross_val_score\n",
        "\n",
        "def SasaranOptimasi(trial : object,\n",
        "                    X : pd.DataFrame,\n",
        "                    Y : pd.DataFrame,\n",
        "                    akurasi : bool = False,\n",
        "                   ) -> object:\n",
        "    Parameters = {'objective'        : 'binary:logistic',\n",
        "                  'eval_metric'      : 'logloss',\n",
        "                  'n_estimators'     : trial.suggest_int('n_estimators', 1e1, 1e4),\n",
        "                  'learning_rate'    : trial.suggest_float('learning_rate', 0.01, 0.3),\n",
        "                  'max_depth'        : trial.suggest_int('max_depth', 3, 10),\n",
        "                  'subsample'        : trial.suggest_float('subsample', 0.6, 1.0),\n",
        "                  'colsample_bytree' : trial.suggest_float('colsample_bytree', 0.6, 1.0),\n",
        "                  'gamma'            : trial.suggest_float('gamma', 0, 0.5),\n",
        "                  'lambda'           : trial.suggest_float('lambda', 1e-8, 1.0, log = True),\n",
        "                  'alpha'            : trial.suggest_float('alpha', 1e-8, 1.0, log = True),\n",
        "                  'seed'             : 1,\n",
        "                 }\n",
        "    Models = XGBClassifier(**Parameters)\n",
        "    if akurasi:\n",
        "        skor   = cross_val_score(Models, X, Y, cv = 5, scoring = 'accuracy').mean()\n",
        "    else:\n",
        "        skor   = cross_val_score(Models, X, Y, cv = 5, scoring = 'f1_weighted').mean()\n",
        "    return skor\n",
        "\n",
        "ObjectiveOptim = partial(SasaranOptimasi, X = X_train, Y = y_train)\n",
        "\n",
        "Optimalkan = CS(direction = 'maximize')\n",
        "Optimalkan.optimize(ObjectiveOptim, n_trials = 80, show_progress_bar = True)"
      ]
    },
    {
      "cell_type": "code",
      "execution_count": null,
      "metadata": {
        "id": "k79L2UfL5Op7"
      },
      "outputs": [],
      "source": [
        "print(\"Pengujian dan Hasilnya\")\n",
        "print(\"Akurasi sebesar {:.2f}\".format(Optimalkan.best_trial.value))\n",
        "print(\"Berikut Parameter tersebut:\")\n",
        "for key, value in Optimalkan.best_trial.params.items():\n",
        "    print(\"\\t{}: {:,.3f}\".format(key, value))"
      ]
    },
    {
      "cell_type": "code",
      "execution_count": null,
      "metadata": {
        "id": "_WYZzgYs5Om4"
      },
      "outputs": [],
      "source": [
        "BestParameter = Optimalkan.best_trial.params\n",
        "BestModel = XGBClassifier(**BestParameter, random_state = 1, enable_categorical = True)\n",
        "BestModel.fit(X_train, y_train)"
      ]
    },
    {
      "cell_type": "code",
      "execution_count": null,
      "metadata": {
        "id": "qoF7-L1v5Oj8"
      },
      "outputs": [],
      "source": [
        "y_predict = BestModel.predict(X_test)\n",
        "Akurasi = accuracy_score(y_test, y_predict)\n",
        "ReportClass_Graph(y_test, y_predict, True)"
      ]
    },
    {
      "cell_type": "code",
      "execution_count": null,
      "metadata": {
        "id": "_ysZPt7n5OgF"
      },
      "outputs": [],
      "source": [
        "ConfusionMatrix_Graph(y_test, y_predict)"
      ]
    },
    {
      "cell_type": "code",
      "execution_count": null,
      "metadata": {
        "id": "XJZ_t9rCH2yz"
      },
      "outputs": [],
      "source": []
    },
    {
      "cell_type": "markdown",
      "metadata": {
        "id": "zV-owr_uKB-W"
      },
      "source": [
        "# Interpretation"
      ]
    },
    {
      "cell_type": "markdown",
      "metadata": {
        "id": "afX4m7gkMHM9"
      },
      "source": [
        "## Menggunakan internal XGBoost"
      ]
    },
    {
      "cell_type": "code",
      "execution_count": null,
      "metadata": {
        "id": "NBjONMwCMGr_"
      },
      "outputs": [],
      "source": [
        "from xgboost import plot_importance\n",
        "\n",
        "def PlotImportance(model : object,\n",
        "                   perspective : str = 'gain',\n",
        "                  ) -> None :\n",
        "    fig, ax = plt.subplots(figsize = (12, 5))\n",
        "    if 'gain' in perspective.lower():\n",
        "        plot_importance(model, ax = ax, importance_type = 'gain')\n",
        "        ax.set_title('Fitur penting dari Model XGboost dengan tipe Gain', fontsize = 18)\n",
        "    elif 'cover' in perspective.lower():\n",
        "        plot_importance(model, ax = ax, importance_type = 'cover')\n",
        "        ax.set_title('Fitur penting dari Model XGboost dengan tipe Cover', fontsize = 18)\n",
        "    else:\n",
        "        plot_importance(model, ax = ax)\n",
        "        ax.set_title('Fitur penting dari Model XGboost', fontsize = 18)\n",
        "\n",
        "    for bar in ax.patches:\n",
        "        bar.set_color('#02ff2c')\n",
        "\n",
        "    for text in ax.texts:\n",
        "        x_val = text.get_position()[0]\n",
        "        y_val = text.get_position()[1]\n",
        "        original_score = float(text.get_text())\n",
        "        new_text = f'{original_score:.1f}'\n",
        "        text.set_text(new_text)\n",
        "        text.set_position((x_val, y_val))\n",
        "\n",
        "    ax.set_xlabel('Skor Importance', fontsize=14)\n",
        "    ax.set_ylabel('Fitur pada Model', fontsize=14)\n",
        "\n",
        "    plt.tight_layout()\n",
        "    plt.show()"
      ]
    },
    {
      "cell_type": "code",
      "execution_count": null,
      "metadata": {
        "id": "J4mOWvC0MGpA"
      },
      "outputs": [],
      "source": [
        "PlotImportance(BestModel, 'gain')"
      ]
    },
    {
      "cell_type": "code",
      "execution_count": null,
      "metadata": {
        "id": "d3FN0fBlfYPU"
      },
      "outputs": [],
      "source": [
        "PlotImportance(BestModel, 'cover')"
      ]
    },
    {
      "cell_type": "code",
      "execution_count": null,
      "metadata": {
        "id": "aS_pQW2AMGlz"
      },
      "outputs": [],
      "source": [
        "PlotImportance(BestModel, 'dots')"
      ]
    },
    {
      "cell_type": "code",
      "execution_count": null,
      "metadata": {
        "id": "IZQ4REm1NE1H"
      },
      "outputs": [],
      "source": []
    },
    {
      "cell_type": "markdown",
      "metadata": {
        "id": "H59qf5LT29z0"
      },
      "source": [
        "## Menggunakan LIME"
      ]
    },
    {
      "cell_type": "code",
      "execution_count": null,
      "metadata": {
        "id": "AWEcD2GB3nR6"
      },
      "outputs": [],
      "source": [
        "from lime import lime_tabular as LT\n",
        "\n",
        "explainer = LT.LimeTabularExplainer(\n",
        "            training_data = X_train.values,\n",
        "            feature_names = X_train.columns.to_list(),\n",
        "            class_names   = ['Tidak Stunting', 'Stunting'],\n",
        "            mode          = 'classification',\n",
        "           )"
      ]
    },
    {
      "cell_type": "code",
      "execution_count": null,
      "metadata": {
        "id": "lQ4ec_7NoRzu"
      },
      "outputs": [],
      "source": [
        "def UnikRandom(i : int,\n",
        "               n : int,\n",
        "               nsample : int = 5,\n",
        "              ) -> np.ndarray :\n",
        "    np.random.seed(2)\n",
        "    if nsample > n + 1:\n",
        "        raise ValueError(\"nsample tidak boleh lebih dari n!\")\n",
        "    UnikValue = np.random.choice(np.arange(i, i + n + 1),\n",
        "                                 size = nsample,\n",
        "                                 replace = False,\n",
        "                                 )\n",
        "    return UnikValue"
      ]
    },
    {
      "cell_type": "code",
      "execution_count": null,
      "metadata": {
        "id": "UODYtb7gh17Z"
      },
      "outputs": [],
      "source": [
        "# Pilih beberapa baris dari X_test untuk Lime Explain\n",
        "Xtest_baris_ke = UnikRandom(10, len(X_test) - 11, 30)\n",
        "Xtest_baris_ke.sort()\n",
        "display(X_test.iloc[Xtest_baris_ke].sample(5))"
      ]
    },
    {
      "cell_type": "code",
      "execution_count": null,
      "metadata": {
        "id": "a627d106"
      },
      "outputs": [],
      "source": [
        "for item in Xtest_baris_ke:\n",
        "    Temp = X_test.iloc[item]\n",
        "    expl = explainer.explain_instance(data_row   = Temp,\n",
        "                                      predict_fn = BestModel.predict_proba,\n",
        "                                      num_features = X_test.shape[1],\n",
        "                                     )\n",
        "    print(f\"Penjelasan untuk baris ke {item}!\")\n",
        "    expl.show_in_notebook(show_table = True, show_all = True)"
      ]
    },
    {
      "cell_type": "code",
      "execution_count": null,
      "metadata": {
        "id": "htWk36a-1Cn7"
      },
      "outputs": [],
      "source": [
        "CustomTrain = X_train.drop(['Malnutrition_Level'], axis = True)\n",
        "CustomTest = X_test.drop(['Malnutrition_Level'], axis = True)\n",
        "\n",
        "Zexp = LT.LimeTabularExplainer(\n",
        "            training_data = CustomTrain.values,\n",
        "            feature_names = CustomTrain.columns.to_list(),\n",
        "            class_names   = ['Tidak Stunting', 'Stunting'],\n",
        "            mode          = 'classification',\n",
        "           )\n",
        "\n",
        "CustomBestModel = XGBClassifier(**BestParameter, random_state = 1,\n",
        "                                enable_categorical = True)\n",
        "CustomBestModel.fit(CustomTrain, y_train)\n",
        "\n",
        "for item in Xtest_baris_ke:\n",
        "    Temp = CustomTest.iloc[item]\n",
        "    expl = Zexp.explain_instance(data_row   = Temp,\n",
        "                                 predict_fn = CustomBestModel.predict_proba,\n",
        "                                 num_features = CustomTest.shape[1],\n",
        "                                )\n",
        "    print(f\"Penjelasan untuk baris ke {item}!\")\n",
        "    expl.show_in_notebook(show_table = True, show_all = True)"
      ]
    },
    {
      "cell_type": "code",
      "execution_count": null,
      "metadata": {
        "id": "kLaHEWXRGhJ5"
      },
      "outputs": [],
      "source": [
        "Temp = CustomTest.iloc[21]\n",
        "expl = Zexp.explain_instance(data_row   = Temp,\n",
        "                             predict_fn = CustomBestModel.predict_proba,\n",
        "                             num_features = CustomTest.shape[1],\n",
        "                            )\n",
        "fig = expl.as_pyplot_figure()\n",
        "fig.suptitle(f\"Explanation for instance {item}\")\n",
        "plt.show()"
      ]
    },
    {
      "cell_type": "code",
      "execution_count": null,
      "metadata": {
        "id": "Oon_2bWJ4J7Q"
      },
      "outputs": [],
      "source": []
    },
    {
      "cell_type": "markdown",
      "metadata": {
        "id": "DxAnCVwQ3Bgw"
      },
      "source": [
        "## Menggunakan SHAP"
      ]
    },
    {
      "cell_type": "code",
      "execution_count": null,
      "metadata": {
        "id": "Or8HdPYRiJW6"
      },
      "outputs": [],
      "source": [
        "from shap import TreeExplainer, summary_plot, dependence_plot\n",
        "\n",
        "explainer = TreeExplainer(BestModel, X_train)\n",
        "ExplainValue = explainer.shap_values(X_test)"
      ]
    },
    {
      "cell_type": "code",
      "execution_count": null,
      "metadata": {
        "id": "YXQkx3Fs3EqF"
      },
      "outputs": [],
      "source": [
        "def ShapSum(Data : pd.DataFrame,\n",
        "            Explainers : object,\n",
        "            ntipe : int = 1,\n",
        "            ) -> None :\n",
        "    plt.figure(figsize = (12, 6))\n",
        "    if int(abs(ntipe)) == 1:\n",
        "        tipeplot = 'layered_violin'\n",
        "    elif int(abs(ntipe)) == 2:\n",
        "        tipeplot = 'bar'\n",
        "    elif int(abs(ntipe)) == 3:\n",
        "        tipeplot = 'beeswarm'\n",
        "    elif int(abs(ntipe)) == 4:\n",
        "        tipeplot = 'violin'\n",
        "    else:\n",
        "        tipeplot = 'dot'\n",
        "    summary_plot(Explainers,\n",
        "                 Data,\n",
        "                 feature_names = Data.columns.to_list(),\n",
        "                 plot_type     = tipeplot,\n",
        "                 show          = False,\n",
        "                )\n",
        "\n",
        "    ax = plt.gca()\n",
        "    ax.xaxis.label.set_color('red')\n",
        "    ax.yaxis.label.set_color('red')\n",
        "    ax.tick_params(axis='x', colors='white')\n",
        "    #ax.tick_params(axis='y', colors='red')\n",
        "    for label in ax.get_yticklabels():\n",
        "        label.set_color('white')\n",
        "\n",
        "    plt.title(\"Impact terhadap Output Model\", size = 18, color=\"white\")\n",
        "    ax.set_xlabel(\"Nilai SHAP\", color='white')\n",
        "    #plt.legend(loc = 'upper left')\n",
        "    plt.tight_layout()\n",
        "    plt.show()"
      ]
    },
    {
      "cell_type": "code",
      "execution_count": null,
      "metadata": {
        "id": "I_QyoWQvLGnT"
      },
      "outputs": [],
      "source": [
        "ShapSum(X_test, ExplainValue, ntipe = 1)"
      ]
    },
    {
      "cell_type": "code",
      "execution_count": null,
      "metadata": {
        "id": "81LI-UuPLFJG"
      },
      "outputs": [],
      "source": [
        "ShapSum(X_test, ExplainValue, ntipe = 2)"
      ]
    },
    {
      "cell_type": "code",
      "execution_count": null,
      "metadata": {
        "id": "8bIeRngQLUpN"
      },
      "outputs": [],
      "source": [
        "ShapSum(X_test, ExplainValue, ntipe = 0)"
      ]
    },
    {
      "cell_type": "code",
      "execution_count": null,
      "metadata": {
        "id": "_e8cmq8oMD3u"
      },
      "outputs": [],
      "source": [
        "from shap import force_plot\n",
        "from shap import initjs\n",
        "\n",
        "initjs()\n",
        "Xall = DataProc.drop(['District_Name'], axis = 1)\n",
        "force_plot(explainer.expected_value, ExplainValue[0, :], Xall.iloc[0, :])"
      ]
    },
    {
      "cell_type": "code",
      "execution_count": null,
      "metadata": {
        "id": "Zk-dBxJay0hv"
      },
      "outputs": [],
      "source": [
        "initjs()\n",
        "force_plot(explainer.expected_value, ExplainValue[51, :], Xall.iloc[51, :])"
      ]
    },
    {
      "cell_type": "code",
      "execution_count": null,
      "metadata": {
        "id": "bmxr5I0NzDW8"
      },
      "outputs": [],
      "source": [
        "initjs()\n",
        "force_plot(explainer.expected_value, ExplainValue[108, :], Xall.iloc[108, :])"
      ]
    },
    {
      "cell_type": "code",
      "execution_count": null,
      "metadata": {
        "id": "hA18iXZuB24r"
      },
      "outputs": [],
      "source": [
        "dependence_plot(0, ExplainValue, X_test, feature_names = X_test.columns.to_list(), color = \"#c5cfff\")"
      ]
    },
    {
      "cell_type": "code",
      "execution_count": null,
      "metadata": {
        "id": "nei34TrSqQ0-"
      },
      "outputs": [],
      "source": [
        "for name in Xall.columns:\n",
        "    dependence_plot(name, ExplainValue, DataProc, display_features = Xall)"
      ]
    },
    {
      "cell_type": "code",
      "execution_count": null,
      "metadata": {
        "id": "gnKopMuurVze"
      },
      "outputs": [],
      "source": []
    },
    {
      "cell_type": "code",
      "execution_count": null,
      "metadata": {
        "id": "yN4bqcaTrVqh"
      },
      "outputs": [],
      "source": []
    },
    {
      "cell_type": "markdown",
      "metadata": {
        "id": "9341456d"
      },
      "source": [
        "# Next Steps"
      ]
    },
    {
      "cell_type": "code",
      "execution_count": null,
      "metadata": {
        "id": "JXt3hJihDpaM"
      },
      "outputs": [],
      "source": []
    }
  ],
  "metadata": {
    "colab": {
      "collapsed_sections": [
        "zOUlY4kTw2Zk",
        "jRbdDTPB85sK",
        "u68g8iSDxRMf",
        "Cpr1ThdZwoJu"
      ],
      "provenance": []
    },
    "kernelspec": {
      "display_name": "Python 3",
      "name": "python3"
    },
    "language_info": {
      "name": "python"
    }
  },
  "nbformat": 4,
  "nbformat_minor": 0
}