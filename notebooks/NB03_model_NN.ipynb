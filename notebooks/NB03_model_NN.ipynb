{
 "cells": [
  {
   "cell_type": "markdown",
   "metadata": {
    "id": "DC6D1ou92ND1"
   },
   "source": [
    "# Perbandingan Model AI dengan Data Stunting"
   ]
  },
  {
   "cell_type": "markdown",
   "metadata": {
    "id": "VTDl1haP2TJU"
   },
   "source": [
    "Kita akan mencoba melakukan pemodelan dengan XGBoost model"
   ]
  },
  {
   "cell_type": "markdown",
   "metadata": {
    "id": "zOUlY4kTw2Zk",
    "jp-MarkdownHeadingCollapsed": true
   },
   "source": [
    "# Inisialisasi Package"
   ]
  },
  {
   "cell_type": "code",
   "execution_count": 1,
   "metadata": {
    "id": "_Q4EK2NJToxB"
   },
   "outputs": [],
   "source": [
    "# General Package\n",
    "import io\n",
    "import logging\n",
    "import warnings\n",
    "import pandas as pd\n",
    "import numpy as np\n",
    "from copy import deepcopy\n",
    "\n",
    "warnings.filterwarnings('ignore')\n",
    "pd.options.display.float_format = '{:,.2f}'.format\n",
    "np.random.seed(1)"
   ]
  },
  {
   "cell_type": "code",
   "execution_count": 2,
   "metadata": {
    "id": "2xYmYmhHTq9J"
   },
   "outputs": [],
   "source": [
    "import matplotlib.pyplot as plt\n",
    "import seaborn as sns\n",
    "\n",
    "%matplotlib inline\n",
    "#sns.set_style('darkgrid')\n",
    "plt.style.use('fivethirtyeight')\n",
    "plt.rcParams['lines.linewidth'] = 1.5\n",
    "dark_style = {\n",
    "    'figure.facecolor': '#212946',\n",
    "    'axes.facecolor': '#212946',\n",
    "    'savefig.facecolor':'#212946',\n",
    "    'axes.grid': True,\n",
    "    'axes.grid.which': 'both',\n",
    "    'axes.spines.left': False,\n",
    "    'axes.spines.right': False,\n",
    "    'axes.spines.top': False,\n",
    "    'axes.spines.bottom': False,\n",
    "    'grid.color': '#2A3459',\n",
    "    'grid.linewidth': '1',\n",
    "    'text.color': '0.9',\n",
    "    'axes.labelcolor': '0.9',\n",
    "    'xtick.color': '0.9',\n",
    "    'ytick.color': '0.9',\n",
    "    'font.size': 12 }\n",
    "plt.rcParams.update(dark_style)\n",
    "\n",
    "from pylab import rcParams\n",
    "rcParams['figure.figsize'] = (12,6)"
   ]
  },
  {
   "cell_type": "code",
   "execution_count": 11,
   "metadata": {
    "id": "12eRlrbR77kI"
   },
   "outputs": [],
   "source": []
  },
  {
   "cell_type": "markdown",
   "metadata": {
    "id": "jRbdDTPB85sK",
    "jp-MarkdownHeadingCollapsed": true
   },
   "source": [
    "# Visualization Function"
   ]
  },
  {
   "cell_type": "code",
   "execution_count": 3,
   "metadata": {
    "id": "iPUIHL4H88a6"
   },
   "outputs": [
    {
     "data": {
      "text/html": [
       "    <style>\n",
       "        .bk-notebook-logo {\n",
       "            display: block;\n",
       "            width: 20px;\n",
       "            height: 20px;\n",
       "            background-image: url(data:image/png;base64,iVBORw0KGgoAAAANSUhEUgAAABQAAAAUCAYAAACNiR0NAAAABHNCSVQICAgIfAhkiAAAAAlwSFlzAAALEgAACxIB0t1+/AAAABx0RVh0U29mdHdhcmUAQWRvYmUgRmlyZXdvcmtzIENTNui8sowAAAOkSURBVDiNjZRtaJVlGMd/1/08zzln5zjP1LWcU9N0NkN8m2CYjpgQYQXqSs0I84OLIC0hkEKoPtiH3gmKoiJDU7QpLgoLjLIQCpEsNJ1vqUOdO7ppbuec5+V+rj4ctwzd8IIbbi6u+8f1539dt3A78eXC7QizUF7gyV1fD1Yqg4JWz84yffhm0qkFqBogB9rM8tZdtwVsPUhWhGcFJngGeWrPzHm5oaMmkfEg1usvLFyc8jLRqDOMru7AyC8saQr7GG7f5fvDeH7Ej8CM66nIF+8yngt6HWaKh7k49Soy9nXurCi1o3qUbS3zWfrYeQDTB/Qj6kX6Ybhw4B+bOYoLKCC9H3Nu/leUTZ1JdRWkkn2ldcCamzrcf47KKXdAJllSlxAOkRgyHsGC/zRday5Qld9DyoM4/q/rUoy/CXh3jzOu3bHUVZeU+DEn8FInkPBFlu3+nW3Nw0mk6vCDiWg8CeJaxEwuHS3+z5RgY+YBR6V1Z1nxSOfoaPa4LASWxxdNp+VWTk7+4vzaou8v8PN+xo+KY2xsw6une2frhw05CTYOmQvsEhjhWjn0bmXPjpE1+kplmmkP3suftwTubK9Vq22qKmrBhpY4jvd5afdRA3wGjFAgcnTK2s4hY0/GPNIb0nErGMCRxWOOX64Z8RAC4oCXdklmEvcL8o0BfkNK4lUg9HTl+oPlQxdNo3Mg4Nv175e/1LDGzZen30MEjRUtmXSfiTVu1kK8W4txyV6BMKlbgk3lMwYCiusNy9fVfvvwMxv8Ynl6vxoByANLTWplvuj/nF9m2+PDtt1eiHPBr1oIfhCChQMBw6Aw0UulqTKZdfVvfG7VcfIqLG9bcldL/+pdWTLxLUy8Qq38heUIjh4XlzZxzQm19lLFlr8vdQ97rjZVOLf8nclzckbcD4wxXMidpX30sFd37Fv/GtwwhzhxGVAprjbg0gCAEeIgwCZyTV2Z1REEW8O4py0wsjeloKoMr6iCY6dP92H6Vw/oTyICIthibxjm/DfN9lVz8IqtqKYLUXfoKVMVQVVJOElGjrnnUt9T9wbgp8AyYKaGlqingHZU/uG2NTZSVqwHQTWkx9hxjkpWDaCg6Ckj5qebgBVbT3V3NNXMSiWSDdGV3hrtzla7J+duwPOToIg42ChPQOQjspnSlp1V+Gjdged7+8UN5CRAV7a5EdFNwCjEaBR27b3W890TE7g24NAP/mMDXRWrGoFPQI9ls/MWO2dWFAar/xcOIImbbpA3zgAAAABJRU5ErkJggg==);\n",
       "        }\n",
       "    </style>\n",
       "    <div>\n",
       "        <a href=\"https://bokeh.org\" target=\"_blank\" class=\"bk-notebook-logo\"></a>\n",
       "        <span id=\"ca2ed88d-ada9-4f89-a963-504d8ba2d2d9\">Loading BokehJS ...</span>\n",
       "    </div>\n"
      ]
     },
     "metadata": {},
     "output_type": "display_data"
    },
    {
     "data": {
      "application/javascript": [
       "'use strict';\n",
       "(function(root) {\n",
       "  function now() {\n",
       "    return new Date();\n",
       "  }\n",
       "\n",
       "  const force = true;\n",
       "\n",
       "  if (typeof root._bokeh_onload_callbacks === \"undefined\" || force === true) {\n",
       "    root._bokeh_onload_callbacks = [];\n",
       "    root._bokeh_is_loading = undefined;\n",
       "  }\n",
       "\n",
       "const JS_MIME_TYPE = 'application/javascript';\n",
       "  const HTML_MIME_TYPE = 'text/html';\n",
       "  const EXEC_MIME_TYPE = 'application/vnd.bokehjs_exec.v0+json';\n",
       "  const CLASS_NAME = 'output_bokeh rendered_html';\n",
       "\n",
       "  /**\n",
       "   * Render data to the DOM node\n",
       "   */\n",
       "  function render(props, node) {\n",
       "    const script = document.createElement(\"script\");\n",
       "    node.appendChild(script);\n",
       "  }\n",
       "\n",
       "  /**\n",
       "   * Handle when an output is cleared or removed\n",
       "   */\n",
       "  function handleClearOutput(event, handle) {\n",
       "    function drop(id) {\n",
       "      const view = Bokeh.index.get_by_id(id)\n",
       "      if (view != null) {\n",
       "        view.model.document.clear()\n",
       "        Bokeh.index.delete(view)\n",
       "      }\n",
       "    }\n",
       "\n",
       "    const cell = handle.cell;\n",
       "\n",
       "    const id = cell.output_area._bokeh_element_id;\n",
       "    const server_id = cell.output_area._bokeh_server_id;\n",
       "\n",
       "    // Clean up Bokeh references\n",
       "    if (id != null) {\n",
       "      drop(id)\n",
       "    }\n",
       "\n",
       "    if (server_id !== undefined) {\n",
       "      // Clean up Bokeh references\n",
       "      const cmd_clean = \"from bokeh.io.state import curstate; print(curstate().uuid_to_server['\" + server_id + \"'].get_sessions()[0].document.roots[0]._id)\";\n",
       "      cell.notebook.kernel.execute(cmd_clean, {\n",
       "        iopub: {\n",
       "          output: function(msg) {\n",
       "            const id = msg.content.text.trim()\n",
       "            drop(id)\n",
       "          }\n",
       "        }\n",
       "      });\n",
       "      // Destroy server and session\n",
       "      const cmd_destroy = \"import bokeh.io.notebook as ion; ion.destroy_server('\" + server_id + \"')\";\n",
       "      cell.notebook.kernel.execute(cmd_destroy);\n",
       "    }\n",
       "  }\n",
       "\n",
       "  /**\n",
       "   * Handle when a new output is added\n",
       "   */\n",
       "  function handleAddOutput(event, handle) {\n",
       "    const output_area = handle.output_area;\n",
       "    const output = handle.output;\n",
       "\n",
       "    // limit handleAddOutput to display_data with EXEC_MIME_TYPE content only\n",
       "    if ((output.output_type != \"display_data\") || (!Object.prototype.hasOwnProperty.call(output.data, EXEC_MIME_TYPE))) {\n",
       "      return\n",
       "    }\n",
       "\n",
       "    const toinsert = output_area.element.find(\".\" + CLASS_NAME.split(' ')[0]);\n",
       "\n",
       "    if (output.metadata[EXEC_MIME_TYPE][\"id\"] !== undefined) {\n",
       "      toinsert[toinsert.length - 1].firstChild.textContent = output.data[JS_MIME_TYPE];\n",
       "      // store reference to embed id on output_area\n",
       "      output_area._bokeh_element_id = output.metadata[EXEC_MIME_TYPE][\"id\"];\n",
       "    }\n",
       "    if (output.metadata[EXEC_MIME_TYPE][\"server_id\"] !== undefined) {\n",
       "      const bk_div = document.createElement(\"div\");\n",
       "      bk_div.innerHTML = output.data[HTML_MIME_TYPE];\n",
       "      const script_attrs = bk_div.children[0].attributes;\n",
       "      for (let i = 0; i < script_attrs.length; i++) {\n",
       "        toinsert[toinsert.length - 1].firstChild.setAttribute(script_attrs[i].name, script_attrs[i].value);\n",
       "        toinsert[toinsert.length - 1].firstChild.textContent = bk_div.children[0].textContent\n",
       "      }\n",
       "      // store reference to server id on output_area\n",
       "      output_area._bokeh_server_id = output.metadata[EXEC_MIME_TYPE][\"server_id\"];\n",
       "    }\n",
       "  }\n",
       "\n",
       "  function register_renderer(events, OutputArea) {\n",
       "\n",
       "    function append_mime(data, metadata, element) {\n",
       "      // create a DOM node to render to\n",
       "      const toinsert = this.create_output_subarea(\n",
       "        metadata,\n",
       "        CLASS_NAME,\n",
       "        EXEC_MIME_TYPE\n",
       "      );\n",
       "      this.keyboard_manager.register_events(toinsert);\n",
       "      // Render to node\n",
       "      const props = {data: data, metadata: metadata[EXEC_MIME_TYPE]};\n",
       "      render(props, toinsert[toinsert.length - 1]);\n",
       "      element.append(toinsert);\n",
       "      return toinsert\n",
       "    }\n",
       "\n",
       "    /* Handle when an output is cleared or removed */\n",
       "    events.on('clear_output.CodeCell', handleClearOutput);\n",
       "    events.on('delete.Cell', handleClearOutput);\n",
       "\n",
       "    /* Handle when a new output is added */\n",
       "    events.on('output_added.OutputArea', handleAddOutput);\n",
       "\n",
       "    /**\n",
       "     * Register the mime type and append_mime function with output_area\n",
       "     */\n",
       "    OutputArea.prototype.register_mime_type(EXEC_MIME_TYPE, append_mime, {\n",
       "      /* Is output safe? */\n",
       "      safe: true,\n",
       "      /* Index of renderer in `output_area.display_order` */\n",
       "      index: 0\n",
       "    });\n",
       "  }\n",
       "\n",
       "  // register the mime type if in Jupyter Notebook environment and previously unregistered\n",
       "  if (root.Jupyter !== undefined) {\n",
       "    const events = require('base/js/events');\n",
       "    const OutputArea = require('notebook/js/outputarea').OutputArea;\n",
       "\n",
       "    if (OutputArea.prototype.mime_types().indexOf(EXEC_MIME_TYPE) == -1) {\n",
       "      register_renderer(events, OutputArea);\n",
       "    }\n",
       "  }\n",
       "  if (typeof (root._bokeh_timeout) === \"undefined\" || force === true) {\n",
       "    root._bokeh_timeout = Date.now() + 5000;\n",
       "    root._bokeh_failed_load = false;\n",
       "  }\n",
       "\n",
       "  const NB_LOAD_WARNING = {'data': {'text/html':\n",
       "     \"<div style='background-color: #fdd'>\\n\"+\n",
       "     \"<p>\\n\"+\n",
       "     \"BokehJS does not appear to have successfully loaded. If loading BokehJS from CDN, this \\n\"+\n",
       "     \"may be due to a slow or bad network connection. Possible fixes:\\n\"+\n",
       "     \"</p>\\n\"+\n",
       "     \"<ul>\\n\"+\n",
       "     \"<li>re-rerun `output_notebook()` to attempt to load from CDN again, or</li>\\n\"+\n",
       "     \"<li>use INLINE resources instead, as so:</li>\\n\"+\n",
       "     \"</ul>\\n\"+\n",
       "     \"<code>\\n\"+\n",
       "     \"from bokeh.resources import INLINE\\n\"+\n",
       "     \"output_notebook(resources=INLINE)\\n\"+\n",
       "     \"</code>\\n\"+\n",
       "     \"</div>\"}};\n",
       "\n",
       "  function display_loaded(error = null) {\n",
       "    const el = document.getElementById(\"ca2ed88d-ada9-4f89-a963-504d8ba2d2d9\");\n",
       "    if (el != null) {\n",
       "      const html = (() => {\n",
       "        if (typeof root.Bokeh === \"undefined\") {\n",
       "          if (error == null) {\n",
       "            return \"BokehJS is loading ...\";\n",
       "          } else {\n",
       "            return \"BokehJS failed to load.\";\n",
       "          }\n",
       "        } else {\n",
       "          const prefix = `BokehJS ${root.Bokeh.version}`;\n",
       "          if (error == null) {\n",
       "            return `${prefix} successfully loaded.`;\n",
       "          } else {\n",
       "            return `${prefix} <b>encountered errors</b> while loading and may not function as expected.`;\n",
       "          }\n",
       "        }\n",
       "      })();\n",
       "      el.innerHTML = html;\n",
       "\n",
       "      if (error != null) {\n",
       "        const wrapper = document.createElement(\"div\");\n",
       "        wrapper.style.overflow = \"auto\";\n",
       "        wrapper.style.height = \"5em\";\n",
       "        wrapper.style.resize = \"vertical\";\n",
       "        const content = document.createElement(\"div\");\n",
       "        content.style.fontFamily = \"monospace\";\n",
       "        content.style.whiteSpace = \"pre-wrap\";\n",
       "        content.style.backgroundColor = \"rgb(255, 221, 221)\";\n",
       "        content.textContent = error.stack ?? error.toString();\n",
       "        wrapper.append(content);\n",
       "        el.append(wrapper);\n",
       "      }\n",
       "    } else if (Date.now() < root._bokeh_timeout) {\n",
       "      setTimeout(() => display_loaded(error), 100);\n",
       "    }\n",
       "  }\n",
       "\n",
       "  function run_callbacks() {\n",
       "    try {\n",
       "      root._bokeh_onload_callbacks.forEach(function(callback) {\n",
       "        if (callback != null)\n",
       "          callback();\n",
       "      });\n",
       "    } finally {\n",
       "      delete root._bokeh_onload_callbacks\n",
       "    }\n",
       "    console.debug(\"Bokeh: all callbacks have finished\");\n",
       "  }\n",
       "\n",
       "  function load_libs(css_urls, js_urls, callback) {\n",
       "    if (css_urls == null) css_urls = [];\n",
       "    if (js_urls == null) js_urls = [];\n",
       "\n",
       "    root._bokeh_onload_callbacks.push(callback);\n",
       "    if (root._bokeh_is_loading > 0) {\n",
       "      console.debug(\"Bokeh: BokehJS is being loaded, scheduling callback at\", now());\n",
       "      return null;\n",
       "    }\n",
       "    if (js_urls == null || js_urls.length === 0) {\n",
       "      run_callbacks();\n",
       "      return null;\n",
       "    }\n",
       "    console.debug(\"Bokeh: BokehJS not loaded, scheduling load and callback at\", now());\n",
       "    root._bokeh_is_loading = css_urls.length + js_urls.length;\n",
       "\n",
       "    function on_load() {\n",
       "      root._bokeh_is_loading--;\n",
       "      if (root._bokeh_is_loading === 0) {\n",
       "        console.debug(\"Bokeh: all BokehJS libraries/stylesheets loaded\");\n",
       "        run_callbacks()\n",
       "      }\n",
       "    }\n",
       "\n",
       "    function on_error(url) {\n",
       "      console.error(\"failed to load \" + url);\n",
       "    }\n",
       "\n",
       "    for (let i = 0; i < css_urls.length; i++) {\n",
       "      const url = css_urls[i];\n",
       "      const element = document.createElement(\"link\");\n",
       "      element.onload = on_load;\n",
       "      element.onerror = on_error.bind(null, url);\n",
       "      element.rel = \"stylesheet\";\n",
       "      element.type = \"text/css\";\n",
       "      element.href = url;\n",
       "      console.debug(\"Bokeh: injecting link tag for BokehJS stylesheet: \", url);\n",
       "      document.body.appendChild(element);\n",
       "    }\n",
       "\n",
       "    for (let i = 0; i < js_urls.length; i++) {\n",
       "      const url = js_urls[i];\n",
       "      const element = document.createElement('script');\n",
       "      element.onload = on_load;\n",
       "      element.onerror = on_error.bind(null, url);\n",
       "      element.async = false;\n",
       "      element.src = url;\n",
       "      console.debug(\"Bokeh: injecting script tag for BokehJS library: \", url);\n",
       "      document.head.appendChild(element);\n",
       "    }\n",
       "  };\n",
       "\n",
       "  function inject_raw_css(css) {\n",
       "    const element = document.createElement(\"style\");\n",
       "    element.appendChild(document.createTextNode(css));\n",
       "    document.body.appendChild(element);\n",
       "  }\n",
       "\n",
       "  const js_urls = [\"https://cdn.bokeh.org/bokeh/release/bokeh-3.7.3.min.js\", \"https://cdn.bokeh.org/bokeh/release/bokeh-gl-3.7.3.min.js\", \"https://cdn.bokeh.org/bokeh/release/bokeh-widgets-3.7.3.min.js\", \"https://cdn.bokeh.org/bokeh/release/bokeh-tables-3.7.3.min.js\", \"https://cdn.bokeh.org/bokeh/release/bokeh-mathjax-3.7.3.min.js\"];\n",
       "  const css_urls = [];\n",
       "\n",
       "  const inline_js = [    function(Bokeh) {\n",
       "      Bokeh.set_log_level(\"info\");\n",
       "    },\n",
       "function(Bokeh) {\n",
       "    }\n",
       "  ];\n",
       "\n",
       "  function run_inline_js() {\n",
       "    if (root.Bokeh !== undefined || force === true) {\n",
       "      try {\n",
       "            for (let i = 0; i < inline_js.length; i++) {\n",
       "      inline_js[i].call(root, root.Bokeh);\n",
       "    }\n",
       "\n",
       "      } catch (error) {display_loaded(error);throw error;\n",
       "      }if (force === true) {\n",
       "        display_loaded();\n",
       "      }} else if (Date.now() < root._bokeh_timeout) {\n",
       "      setTimeout(run_inline_js, 100);\n",
       "    } else if (!root._bokeh_failed_load) {\n",
       "      console.log(\"Bokeh: BokehJS failed to load within specified timeout.\");\n",
       "      root._bokeh_failed_load = true;\n",
       "    } else if (force !== true) {\n",
       "      const cell = $(document.getElementById(\"ca2ed88d-ada9-4f89-a963-504d8ba2d2d9\")).parents('.cell').data().cell;\n",
       "      cell.output_area.append_execute_result(NB_LOAD_WARNING)\n",
       "    }\n",
       "  }\n",
       "\n",
       "  if (root._bokeh_is_loading === 0) {\n",
       "    console.debug(\"Bokeh: BokehJS loaded, going straight to plotting\");\n",
       "    run_inline_js();\n",
       "  } else {\n",
       "    load_libs(css_urls, js_urls, function() {\n",
       "      console.debug(\"Bokeh: BokehJS plotting callback run at\", now());\n",
       "      run_inline_js();\n",
       "    });\n",
       "  }\n",
       "}(window));"
      ],
      "application/vnd.bokehjs_load.v0+json": "'use strict';\n(function(root) {\n  function now() {\n    return new Date();\n  }\n\n  const force = true;\n\n  if (typeof root._bokeh_onload_callbacks === \"undefined\" || force === true) {\n    root._bokeh_onload_callbacks = [];\n    root._bokeh_is_loading = undefined;\n  }\n\n\n  if (typeof (root._bokeh_timeout) === \"undefined\" || force === true) {\n    root._bokeh_timeout = Date.now() + 5000;\n    root._bokeh_failed_load = false;\n  }\n\n  const NB_LOAD_WARNING = {'data': {'text/html':\n     \"<div style='background-color: #fdd'>\\n\"+\n     \"<p>\\n\"+\n     \"BokehJS does not appear to have successfully loaded. If loading BokehJS from CDN, this \\n\"+\n     \"may be due to a slow or bad network connection. Possible fixes:\\n\"+\n     \"</p>\\n\"+\n     \"<ul>\\n\"+\n     \"<li>re-rerun `output_notebook()` to attempt to load from CDN again, or</li>\\n\"+\n     \"<li>use INLINE resources instead, as so:</li>\\n\"+\n     \"</ul>\\n\"+\n     \"<code>\\n\"+\n     \"from bokeh.resources import INLINE\\n\"+\n     \"output_notebook(resources=INLINE)\\n\"+\n     \"</code>\\n\"+\n     \"</div>\"}};\n\n  function display_loaded(error = null) {\n    const el = document.getElementById(\"ca2ed88d-ada9-4f89-a963-504d8ba2d2d9\");\n    if (el != null) {\n      const html = (() => {\n        if (typeof root.Bokeh === \"undefined\") {\n          if (error == null) {\n            return \"BokehJS is loading ...\";\n          } else {\n            return \"BokehJS failed to load.\";\n          }\n        } else {\n          const prefix = `BokehJS ${root.Bokeh.version}`;\n          if (error == null) {\n            return `${prefix} successfully loaded.`;\n          } else {\n            return `${prefix} <b>encountered errors</b> while loading and may not function as expected.`;\n          }\n        }\n      })();\n      el.innerHTML = html;\n\n      if (error != null) {\n        const wrapper = document.createElement(\"div\");\n        wrapper.style.overflow = \"auto\";\n        wrapper.style.height = \"5em\";\n        wrapper.style.resize = \"vertical\";\n        const content = document.createElement(\"div\");\n        content.style.fontFamily = \"monospace\";\n        content.style.whiteSpace = \"pre-wrap\";\n        content.style.backgroundColor = \"rgb(255, 221, 221)\";\n        content.textContent = error.stack ?? error.toString();\n        wrapper.append(content);\n        el.append(wrapper);\n      }\n    } else if (Date.now() < root._bokeh_timeout) {\n      setTimeout(() => display_loaded(error), 100);\n    }\n  }\n\n  function run_callbacks() {\n    try {\n      root._bokeh_onload_callbacks.forEach(function(callback) {\n        if (callback != null)\n          callback();\n      });\n    } finally {\n      delete root._bokeh_onload_callbacks\n    }\n    console.debug(\"Bokeh: all callbacks have finished\");\n  }\n\n  function load_libs(css_urls, js_urls, callback) {\n    if (css_urls == null) css_urls = [];\n    if (js_urls == null) js_urls = [];\n\n    root._bokeh_onload_callbacks.push(callback);\n    if (root._bokeh_is_loading > 0) {\n      console.debug(\"Bokeh: BokehJS is being loaded, scheduling callback at\", now());\n      return null;\n    }\n    if (js_urls == null || js_urls.length === 0) {\n      run_callbacks();\n      return null;\n    }\n    console.debug(\"Bokeh: BokehJS not loaded, scheduling load and callback at\", now());\n    root._bokeh_is_loading = css_urls.length + js_urls.length;\n\n    function on_load() {\n      root._bokeh_is_loading--;\n      if (root._bokeh_is_loading === 0) {\n        console.debug(\"Bokeh: all BokehJS libraries/stylesheets loaded\");\n        run_callbacks()\n      }\n    }\n\n    function on_error(url) {\n      console.error(\"failed to load \" + url);\n    }\n\n    for (let i = 0; i < css_urls.length; i++) {\n      const url = css_urls[i];\n      const element = document.createElement(\"link\");\n      element.onload = on_load;\n      element.onerror = on_error.bind(null, url);\n      element.rel = \"stylesheet\";\n      element.type = \"text/css\";\n      element.href = url;\n      console.debug(\"Bokeh: injecting link tag for BokehJS stylesheet: \", url);\n      document.body.appendChild(element);\n    }\n\n    for (let i = 0; i < js_urls.length; i++) {\n      const url = js_urls[i];\n      const element = document.createElement('script');\n      element.onload = on_load;\n      element.onerror = on_error.bind(null, url);\n      element.async = false;\n      element.src = url;\n      console.debug(\"Bokeh: injecting script tag for BokehJS library: \", url);\n      document.head.appendChild(element);\n    }\n  };\n\n  function inject_raw_css(css) {\n    const element = document.createElement(\"style\");\n    element.appendChild(document.createTextNode(css));\n    document.body.appendChild(element);\n  }\n\n  const js_urls = [\"https://cdn.bokeh.org/bokeh/release/bokeh-3.7.3.min.js\", \"https://cdn.bokeh.org/bokeh/release/bokeh-gl-3.7.3.min.js\", \"https://cdn.bokeh.org/bokeh/release/bokeh-widgets-3.7.3.min.js\", \"https://cdn.bokeh.org/bokeh/release/bokeh-tables-3.7.3.min.js\", \"https://cdn.bokeh.org/bokeh/release/bokeh-mathjax-3.7.3.min.js\"];\n  const css_urls = [];\n\n  const inline_js = [    function(Bokeh) {\n      Bokeh.set_log_level(\"info\");\n    },\nfunction(Bokeh) {\n    }\n  ];\n\n  function run_inline_js() {\n    if (root.Bokeh !== undefined || force === true) {\n      try {\n            for (let i = 0; i < inline_js.length; i++) {\n      inline_js[i].call(root, root.Bokeh);\n    }\n\n      } catch (error) {display_loaded(error);throw error;\n      }if (force === true) {\n        display_loaded();\n      }} else if (Date.now() < root._bokeh_timeout) {\n      setTimeout(run_inline_js, 100);\n    } else if (!root._bokeh_failed_load) {\n      console.log(\"Bokeh: BokehJS failed to load within specified timeout.\");\n      root._bokeh_failed_load = true;\n    } else if (force !== true) {\n      const cell = $(document.getElementById(\"ca2ed88d-ada9-4f89-a963-504d8ba2d2d9\")).parents('.cell').data().cell;\n      cell.output_area.append_execute_result(NB_LOAD_WARNING)\n    }\n  }\n\n  if (root._bokeh_is_loading === 0) {\n    console.debug(\"Bokeh: BokehJS loaded, going straight to plotting\");\n    run_inline_js();\n  } else {\n    load_libs(css_urls, js_urls, function() {\n      console.debug(\"Bokeh: BokehJS plotting callback run at\", now());\n      run_inline_js();\n    });\n  }\n}(window));"
     },
     "metadata": {},
     "output_type": "display_data"
    }
   ],
   "source": [
    "from bokeh.models import HoverTool, ColumnDataSource, NumeralTickFormatter, DatetimeTickFormatter\n",
    "from bokeh.io import curdoc, output_notebook\n",
    "from bokeh.themes import built_in_themes\n",
    "from bokeh.plotting import figure, show\n",
    "from bokeh.palettes import gray\n",
    "from bokeh.colors import RGB\n",
    "\n",
    "output_notebook()\n",
    "curdoc().theme = built_in_themes['caliber']"
   ]
  },
  {
   "cell_type": "code",
   "execution_count": 13,
   "metadata": {
    "id": "pDfEMqSf88VV"
   },
   "outputs": [],
   "source": [
    "def BokehPlot_1D(data: pd.DataFrame,\n",
    "                 dates: str = 'date',\n",
    "                 original: str = 'suhu',\n",
    "                 Title: str = 'Grafik Suhu Harian',\n",
    "                 Color: str = '#0a8234',\n",
    "                 date_unit: str = 'day', # Opsi Argumen: 'year', 'month', 'day'\n",
    "                ) -> None:\n",
    "    output_notebook()\n",
    "    curdoc().theme = built_in_themes['caliber']\n",
    "\n",
    "    yourdata = data.copy()\n",
    "    if dates not in yourdata.columns:\n",
    "        yourdata[dates] = yourdata.index\n",
    "\n",
    "\n",
    "    # Grafik inisialisasi\n",
    "    Grafik = figure(title=Title,\n",
    "                    background_fill_color=RGB(242, 242, 242),\n",
    "                    background_fill_alpha=0.85,\n",
    "                    )\n",
    "    Grafik.width = 1200\n",
    "    Grafik.height = 400\n",
    "\n",
    "    # Modifikasi Data\n",
    "    if date_unit == 'month':\n",
    "        yourdata['Penanggalan'] = pd.to_datetime(yourdata[dates], format='%Y-%m', errors='coerce')\n",
    "        Grafik.xaxis.formatter = DatetimeTickFormatter(months=\"%b %Y\")\n",
    "        x_axis_label = 'Bulan'\n",
    "        hover_format = \"@tanggal{%b %Y}\"\n",
    "    elif date_unit == 'year':\n",
    "        yourdata['Penanggalan'] = pd.to_datetime(yourdata[dates], format='%Y', errors='coerce')\n",
    "        Grafik.xaxis.formatter = DatetimeTickFormatter(years=\"%Y\")\n",
    "        x_axis_label = 'Tahun'\n",
    "        hover_format = \"@tanggal{%Y}\"\n",
    "    else:\n",
    "        yourdata['Penanggalan'] = pd.to_datetime(yourdata[dates], format='%Y-%m-%d', errors='coerce')\n",
    "        Grafik.xaxis.formatter = DatetimeTickFormatter(days=\"%d %b %Y\")\n",
    "        x_axis_label = 'Harian'\n",
    "        hover_format = \"@tanggal{%d %b %Y}\"\n",
    "\n",
    "    Grafik.xaxis.axis_label = x_axis_label\n",
    "    Grafik.yaxis.axis_label = original\n",
    "\n",
    "    # Join dataset ke Source\n",
    "    yourdata.dropna(subset=['Penanggalan'], inplace=True)\n",
    "    source = ColumnDataSource(data=dict(\n",
    "        tanggal=yourdata['Penanggalan'],\n",
    "        Original=yourdata[original],\n",
    "    ))\n",
    "\n",
    "    Grafik.line(x='tanggal', y='Original',\n",
    "                source=source, legend_label=original.upper(),\n",
    "                line_width=2, color=Color)\n",
    "\n",
    "    # Hover setting\n",
    "    Tipo = HoverTool()\n",
    "    Tipo.tooltips = [(x_axis_label, hover_format),\n",
    "                     (\"Origin\",   \"@Original{0,.2f}\"),\n",
    "                    ]\n",
    "    Tipo.formatters = {'@tanggal': 'datetime'}\n",
    "    Tipo.mode = 'vline'\n",
    "    Grafik.add_tools(Tipo)\n",
    "\n",
    "    # Customize plot\n",
    "    Grafik.title.align = 'center'\n",
    "    Grafik.title.text_font_size = '20pt'\n",
    "    Grafik.title.text_color = '#d11950'\n",
    "    Grafik.legend.location = 'top_left'\n",
    "    Grafik.legend.click_policy = 'hide'\n",
    "\n",
    "    Grafik.yaxis.formatter = NumeralTickFormatter(format=\"0,0\")\n",
    "    show(Grafik)"
   ]
  },
  {
   "cell_type": "code",
   "execution_count": 14,
   "metadata": {
    "id": "qfVi0CYA88Qn"
   },
   "outputs": [],
   "source": [
    "def Bokeh_Decomposition(DataX : np.ndarray,\n",
    "                        DataY : np.ndarray,\n",
    "                        Judul : str = 'Komponen Trend',\n",
    "                        color : str = \"#d11950\",\n",
    "                       ) -> None :\n",
    "    Data = ColumnDataSource(data=dict(\n",
    "                              x = DataX,\n",
    "                              y = DataY,\n",
    "                            ))\n",
    "\n",
    "    graphDeretWaktu = figure(width        = 1200,\n",
    "                             height       = 250,\n",
    "                             x_axis_type  = \"datetime\",\n",
    "                             x_axis_label = \"Tanggal\",\n",
    "                             y_axis_label = \"Nilai\",\n",
    "                             background_fill_color = gray(20)[17],\n",
    "                             background_fill_alpha = 0.85,\n",
    "                            )\n",
    "\n",
    "    graphDeretWaktu.line('x', 'y',\n",
    "                         source     = Data,\n",
    "                         color      = color,\n",
    "                         line_width = 1,\n",
    "                        )\n",
    "    graphDeretWaktu.title.text           = Judul\n",
    "    graphDeretWaktu.title.text_font_size = \"20pt\"\n",
    "    graphDeretWaktu.title.align          = \"center\"\n",
    "    graphDeretWaktu.title.text_color     = color\n",
    "    graphDeretWaktu.yaxis[0].formatter = NumeralTickFormatter(format=\"0,0\")\n",
    "\n",
    "    THeHover = HoverTool(tooltips=[\n",
    "                        (\"Tanggal\", \"@x{%F}\"),\n",
    "                        (\"Nilai\", \"@y{0,.2f}\")],\n",
    "                        formatters={\"@x\": \"datetime\"\n",
    "                        })\n",
    "    graphDeretWaktu.add_tools(THeHover)\n",
    "    show(graphDeretWaktu)\n"
   ]
  },
  {
   "cell_type": "code",
   "execution_count": 15,
   "metadata": {
    "id": "LhW6TGxt88Mh"
   },
   "outputs": [],
   "source": [
    "def BokehPlot(mydata      : pd.DataFrame,\n",
    "              dates       : str = 'date',\n",
    "              original    : str = 'Close',\n",
    "              prediksi    : str = 'Forecasting',\n",
    "              batas_atas  : str = 'AutoARIMA-hi-95',\n",
    "              batas_bawah : str = 'AutoARIMA-lo-95',\n",
    "              modelname   : str = 'ARIMA',\n",
    "              title       : str = '',\n",
    "             ) -> None :\n",
    "\n",
    "    output_notebook()\n",
    "    curdoc().theme = built_in_themes['caliber']\n",
    "\n",
    "    yourdata = mydata.copy()\n",
    "    if dates not in yourdata.columns:\n",
    "        yourdata[dates] = yourdata.index\n",
    "\n",
    "    if batas_atas not in yourdata.columns:\n",
    "        data_dict = {\n",
    "            'tanggal': yourdata[dates],\n",
    "            'Original': yourdata[original],\n",
    "            'Predict': yourdata[prediksi]\n",
    "        }\n",
    "        varea = False\n",
    "    else:\n",
    "        data_dict = {\n",
    "            'tanggal': yourdata[dates],\n",
    "            'Original': yourdata[original],\n",
    "            'Predict': yourdata[prediksi],\n",
    "            'upper':yourdata[batas_atas],\n",
    "            'lower':yourdata[batas_bawah],\n",
    "        }\n",
    "        varea = True\n",
    "    DataSumber = ColumnDataSource(data=data_dict)\n",
    "\n",
    "    if len(str(title)) <= 5 :\n",
    "        title = f'Plot {modelname} dalam data Order Demand'\n",
    "    Grafik = figure(title= title,\n",
    "                    x_axis_type='datetime',\n",
    "                    x_axis_label='Tanggal',\n",
    "                    y_axis_label='Besar Order Demand',\n",
    "                    background_fill_color=gray(20)[17],\n",
    "                    background_fill_alpha=0.85,\n",
    "                    )\n",
    "    Grafik.width = 1200\n",
    "    Grafik.height = 400\n",
    "\n",
    "    Grafik.line(x='tanggal', y='Original',\n",
    "                source=DataSumber, legend_label='Besar Order Demand pada Gudang',\n",
    "                line_width=2, color='#252392')\n",
    "    Grafik.line(x='tanggal', y='Predict',\n",
    "                source=DataSumber, legend_label=f'{modelname}',\n",
    "                line_width=2, color='#d40d4c')\n",
    "    if varea :\n",
    "        Grafik.varea(x='tanggal',\n",
    "                     y1='lower',\n",
    "                     y2='upper',\n",
    "                     source=DataSumber,\n",
    "                     color='#61e041',\n",
    "                     alpha=0.7,\n",
    "                     legend_label='95% CI'\n",
    "                    )\n",
    "\n",
    "    Tipo = HoverTool()\n",
    "    Tipo.tooltips = [(\"Tanggal\", \"@tanggal{%F}\"),\n",
    "                     (\"Origin\", \"@Original{0,.2f}\"),\n",
    "                     (modelname, \"@Predict{0,.2f}\"),\n",
    "                     ]\n",
    "    Tipo.formatters = {'@tanggal': 'datetime'}\n",
    "    Grafik.add_tools(Tipo)\n",
    "\n",
    "    Grafik.title.align = 'center'\n",
    "    Grafik.title.text_font_size = '20pt'\n",
    "    Grafik.title.text_color = '#d11950'\n",
    "    Grafik.legend.location = 'top_left'\n",
    "    Grafik.legend.click_policy = 'hide'\n",
    "    Grafik.yaxis.formatter = NumeralTickFormatter(format=\"0,0\")\n",
    "\n",
    "    show(Grafik)"
   ]
  },
  {
   "cell_type": "code",
   "execution_count": 15,
   "metadata": {
    "id": "oSvuasXJ88HR"
   },
   "outputs": [],
   "source": []
  },
  {
   "cell_type": "markdown",
   "metadata": {
    "id": "u68g8iSDxRMf"
   },
   "source": [
    "# Initialization from PostGreSQL"
   ]
  },
  {
   "cell_type": "code",
   "execution_count": 23,
   "metadata": {},
   "outputs": [
    {
     "data": {
      "text/plain": [
       "['/mnt/d/WORKING/C01 PROJECTS/Configs.ini']"
      ]
     },
     "execution_count": 23,
     "metadata": {},
     "output_type": "execute_result"
    }
   ],
   "source": [
    "from configparser import ConfigParser\n",
    "\n",
    "confpt = '/mnt/d/WORKING/C01 PROJECTS/Configs.ini'\n",
    "config = ConfigParser()\n",
    "\n",
    "config.read(confpt)"
   ]
  },
  {
   "cell_type": "code",
   "execution_count": 47,
   "metadata": {
    "colab": {
     "base_uri": "https://localhost:8080/",
     "height": 298
    },
    "id": "xloL5MR4nxuS",
    "outputId": "cdd3e939-85d0-4b95-cd42-6522f72e3a33"
   },
   "outputs": [],
   "source": [
    "from psycopg2 import connect, DatabaseError\n",
    "\n",
    "# Database connection parameters\n",
    "parameter = {\"host\"    : config.get('Postgre', 'HOST_IP'),\n",
    "             \"database\": config.get('Postgre', 'DB_NAME'),\n",
    "             \"user\"    : config.get('Postgre', 'DB_USER'),\n",
    "             \"password\": config.get('Postgre', 'DB_PWD'),\n",
    "            }\n",
    "PostConnected = connect(**parameter)"
   ]
  },
  {
   "cell_type": "code",
   "execution_count": 59,
   "metadata": {},
   "outputs": [],
   "source": [
    "def GetData(Koneksi   : object,\n",
    "            query     : str,\n",
    "            usepandas : bool = False,\n",
    "           ) -> pd.DataFrame:\n",
    "    assert len(query) > 10, 'Not sufficient query!'\n",
    "    if not usepandas :\n",
    "        postgr = Koneksi.cursor()\n",
    "        postgr.execute(query)\n",
    "        raw = postgr.fetchall()\n",
    "        header = [item[0] for item in postgr.description]\n",
    "        data = pd.DataFrame(raw, columns = header)\n",
    "        postgr.close()\n",
    "    else:\n",
    "        data = pd.read_sql(query, Koneksi)\n",
    "    return data"
   ]
  },
  {
   "cell_type": "code",
   "execution_count": 65,
   "metadata": {},
   "outputs": [
    {
     "data": {
      "text/html": [
       "<div>\n",
       "<style scoped>\n",
       "    .dataframe tbody tr th:only-of-type {\n",
       "        vertical-align: middle;\n",
       "    }\n",
       "\n",
       "    .dataframe tbody tr th {\n",
       "        vertical-align: top;\n",
       "    }\n",
       "\n",
       "    .dataframe thead th {\n",
       "        text-align: right;\n",
       "    }\n",
       "</style>\n",
       "<table border=\"1\" class=\"dataframe\">\n",
       "  <thead>\n",
       "    <tr style=\"text-align: right;\">\n",
       "      <th></th>\n",
       "      <th>table_name</th>\n",
       "    </tr>\n",
       "  </thead>\n",
       "  <tbody>\n",
       "    <tr>\n",
       "      <th>0</th>\n",
       "      <td>countstunting</td>\n",
       "    </tr>\n",
       "    <tr>\n",
       "      <th>1</th>\n",
       "      <td>rawdata</td>\n",
       "    </tr>\n",
       "    <tr>\n",
       "      <th>2</th>\n",
       "      <td>raw_countstunting</td>\n",
       "    </tr>\n",
       "    <tr>\n",
       "      <th>3</th>\n",
       "      <td>xtesting</td>\n",
       "    </tr>\n",
       "    <tr>\n",
       "      <th>4</th>\n",
       "      <td>xtraining</td>\n",
       "    </tr>\n",
       "    <tr>\n",
       "      <th>5</th>\n",
       "      <td>ytesting</td>\n",
       "    </tr>\n",
       "    <tr>\n",
       "      <th>6</th>\n",
       "      <td>ytraining</td>\n",
       "    </tr>\n",
       "  </tbody>\n",
       "</table>\n",
       "</div>"
      ],
      "text/plain": [
       "          table_name\n",
       "0      countstunting\n",
       "1            rawdata\n",
       "2  raw_countstunting\n",
       "3           xtesting\n",
       "4          xtraining\n",
       "5           ytesting\n",
       "6          ytraining"
      ]
     },
     "execution_count": 65,
     "metadata": {},
     "output_type": "execute_result"
    }
   ],
   "source": [
    "syntax = '''\n",
    "SELECT\n",
    "    table_name\n",
    "FROM\n",
    "    information_schema.tables\n",
    "WHERE\n",
    "    table_schema = 'public'\n",
    "    AND table_type = 'BASE TABLE';\n",
    "'''\n",
    "\n",
    "GetData(PostConnected, syntax)"
   ]
  },
  {
   "cell_type": "code",
   "execution_count": 66,
   "metadata": {},
   "outputs": [
    {
     "data": {
      "text/html": [
       "<div>\n",
       "<style scoped>\n",
       "    .dataframe tbody tr th:only-of-type {\n",
       "        vertical-align: middle;\n",
       "    }\n",
       "\n",
       "    .dataframe tbody tr th {\n",
       "        vertical-align: top;\n",
       "    }\n",
       "\n",
       "    .dataframe thead th {\n",
       "        text-align: right;\n",
       "    }\n",
       "</style>\n",
       "<table border=\"1\" class=\"dataframe\">\n",
       "  <thead>\n",
       "    <tr style=\"text-align: right;\">\n",
       "      <th></th>\n",
       "      <th>district_name</th>\n",
       "      <th>stunting</th>\n",
       "      <th>count</th>\n",
       "    </tr>\n",
       "  </thead>\n",
       "  <tbody>\n",
       "    <tr>\n",
       "      <th>0</th>\n",
       "      <td>BENUKI</td>\n",
       "      <td>0</td>\n",
       "      <td>18</td>\n",
       "    </tr>\n",
       "    <tr>\n",
       "      <th>1</th>\n",
       "      <td>BENUKI</td>\n",
       "      <td>1</td>\n",
       "      <td>33</td>\n",
       "    </tr>\n",
       "    <tr>\n",
       "      <th>2</th>\n",
       "      <td>MAMBERAMO HILIR</td>\n",
       "      <td>0</td>\n",
       "      <td>45</td>\n",
       "    </tr>\n",
       "  </tbody>\n",
       "</table>\n",
       "</div>"
      ],
      "text/plain": [
       "     district_name  stunting  count\n",
       "0           BENUKI         0     18\n",
       "1           BENUKI         1     33\n",
       "2  MAMBERAMO HILIR         0     45"
      ]
     },
     "metadata": {},
     "output_type": "display_data"
    }
   ],
   "source": [
    "syntax = 'SELECT * FROM countstunting;'\n",
    "test = GetData(PostConnected, syntax)\n",
    "display(test.head(3))"
   ]
  },
  {
   "cell_type": "code",
   "execution_count": null,
   "metadata": {},
   "outputs": [],
   "source": []
  },
  {
   "cell_type": "markdown",
   "metadata": {},
   "source": [
    "# Training Dataset"
   ]
  },
  {
   "cell_type": "code",
   "execution_count": 70,
   "metadata": {
    "id": "L1Ms39YBcLLw",
    "scrolled": true
   },
   "outputs": [],
   "source": [
    "X_train = GetData(PostConnected, \"SELECT * FROM Xtraining;\")\n",
    "X_test  = GetData(PostConnected, \"SELECT * FROM Xtesting;\")\n",
    "y_train = GetData(PostConnected, \"SELECT * FROM ytraining;\")\n",
    "y_test  = GetData(PostConnected, \"SELECT * FROM ytesting;\")\n",
    "\n",
    "y_train = y_train['stunting'].to_numpy()\n",
    "y_test  = y_test['stunting'].to_numpy()"
   ]
  },
  {
   "cell_type": "code",
   "execution_count": 71,
   "metadata": {
    "id": "dKuM0Wg8cndn"
   },
   "outputs": [
    {
     "name": "stdout",
     "output_type": "stream",
     "text": [
      "Ukuran Regressor Training adalah  (485, 8)\n",
      "Ukuran Regressor Test adalah  (122, 8)\n",
      "Ukuran target Training adalah  485\n",
      "Ukuran target Test adalah  122\n"
     ]
    }
   ],
   "source": [
    "print(\"Ukuran Regressor Training adalah \", X_train.shape)\n",
    "print(\"Ukuran Regressor Test adalah \", X_test.shape)\n",
    "print(\"Ukuran target Training adalah \", len(y_train))\n",
    "print(\"Ukuran target Test adalah \", len(y_test))"
   ]
  },
  {
   "cell_type": "code",
   "execution_count": 72,
   "metadata": {
    "id": "R6Bm0S4sdSa7"
   },
   "outputs": [
    {
     "data": {
      "text/html": [
       "<div>\n",
       "<style scoped>\n",
       "    .dataframe tbody tr th:only-of-type {\n",
       "        vertical-align: middle;\n",
       "    }\n",
       "\n",
       "    .dataframe tbody tr th {\n",
       "        vertical-align: top;\n",
       "    }\n",
       "\n",
       "    .dataframe thead th {\n",
       "        text-align: right;\n",
       "    }\n",
       "</style>\n",
       "<table border=\"1\" class=\"dataframe\">\n",
       "  <thead>\n",
       "    <tr style=\"text-align: right;\">\n",
       "      <th></th>\n",
       "      <th>district_code</th>\n",
       "      <th>gender</th>\n",
       "      <th>malnutrition_level</th>\n",
       "      <th>exclusive_milky</th>\n",
       "      <th>smoke_habit</th>\n",
       "      <th>purewater_access</th>\n",
       "      <th>healthy_toilet</th>\n",
       "      <th>difficult_acess</th>\n",
       "    </tr>\n",
       "  </thead>\n",
       "  <tbody>\n",
       "    <tr>\n",
       "      <th>0</th>\n",
       "      <td>10</td>\n",
       "      <td>0</td>\n",
       "      <td>2</td>\n",
       "      <td>1</td>\n",
       "      <td>0</td>\n",
       "      <td>1</td>\n",
       "      <td>0</td>\n",
       "      <td>1</td>\n",
       "    </tr>\n",
       "    <tr>\n",
       "      <th>1</th>\n",
       "      <td>5</td>\n",
       "      <td>1</td>\n",
       "      <td>1</td>\n",
       "      <td>0</td>\n",
       "      <td>0</td>\n",
       "      <td>0</td>\n",
       "      <td>0</td>\n",
       "      <td>0</td>\n",
       "    </tr>\n",
       "    <tr>\n",
       "      <th>2</th>\n",
       "      <td>10</td>\n",
       "      <td>0</td>\n",
       "      <td>1</td>\n",
       "      <td>0</td>\n",
       "      <td>0</td>\n",
       "      <td>0</td>\n",
       "      <td>0</td>\n",
       "      <td>1</td>\n",
       "    </tr>\n",
       "    <tr>\n",
       "      <th>3</th>\n",
       "      <td>1</td>\n",
       "      <td>1</td>\n",
       "      <td>4</td>\n",
       "      <td>1</td>\n",
       "      <td>1</td>\n",
       "      <td>1</td>\n",
       "      <td>0</td>\n",
       "      <td>1</td>\n",
       "    </tr>\n",
       "    <tr>\n",
       "      <th>4</th>\n",
       "      <td>10</td>\n",
       "      <td>1</td>\n",
       "      <td>2</td>\n",
       "      <td>1</td>\n",
       "      <td>0</td>\n",
       "      <td>0</td>\n",
       "      <td>0</td>\n",
       "      <td>1</td>\n",
       "    </tr>\n",
       "  </tbody>\n",
       "</table>\n",
       "</div>"
      ],
      "text/plain": [
       "   district_code  gender  malnutrition_level  exclusive_milky  smoke_habit  \\\n",
       "0             10       0                   2                1            0   \n",
       "1              5       1                   1                0            0   \n",
       "2             10       0                   1                0            0   \n",
       "3              1       1                   4                1            1   \n",
       "4             10       1                   2                1            0   \n",
       "\n",
       "   purewater_access  healthy_toilet  difficult_acess  \n",
       "0                 1               0                1  \n",
       "1                 0               0                0  \n",
       "2                 0               0                1  \n",
       "3                 1               0                1  \n",
       "4                 0               0                1  "
      ]
     },
     "execution_count": 72,
     "metadata": {},
     "output_type": "execute_result"
    }
   ],
   "source": [
    "X_train.head()"
   ]
  },
  {
   "cell_type": "code",
   "execution_count": null,
   "metadata": {
    "id": "3VFkY8SrwxiY"
   },
   "outputs": [],
   "source": []
  },
  {
   "cell_type": "markdown",
   "metadata": {
    "id": "Cpr1ThdZwoJu"
   },
   "source": [
    "# XGBoost Modelling"
   ]
  },
  {
   "cell_type": "code",
   "execution_count": null,
   "metadata": {
    "id": "MTZE_6SZ4FHT"
   },
   "outputs": [],
   "source": [
    "from xgboost import XGBClassifier\n",
    "from sklearn.metrics import accuracy_score, classification_report, confusion_matrix"
   ]
  },
  {
   "cell_type": "code",
   "execution_count": null,
   "metadata": {
    "id": "rW4kIWoI4E5O"
   },
   "outputs": [],
   "source": [
    "model = XGBClassifier(objective        = 'binary:logistic',\n",
    "                      n_estimators     = 500,\n",
    "                      max_depth        = 3,\n",
    "                      learning_rate    = 0.1,\n",
    "                      subsample        = 0.8,\n",
    "                      colsample_bytree = 0.8,\n",
    "                      random_state     = 1,\n",
    "                      eval_metric      = 'logloss',\n",
    "                     )\n",
    "\n",
    "model.fit(X_train, y_train)\n",
    "y_pred = model.predict(X_test)"
   ]
  },
  {
   "cell_type": "code",
   "execution_count": null,
   "metadata": {
    "id": "j5HQ_JCE4E1p"
   },
   "outputs": [],
   "source": [
    "OurMetric = accuracy_score(y_test, y_pred)\n",
    "print(f'Performance akurasi dari Model XGBoost sekarang adalah {OurMetric*100:,.2f}%.')"
   ]
  },
  {
   "cell_type": "code",
   "execution_count": null,
   "metadata": {
    "id": "XrL0uyUY_Xkm"
   },
   "outputs": [],
   "source": [
    "from sklearn.metrics import classification_report\n",
    "\n",
    "def ReportClass_Graph(y_test    : np.ndarray,\n",
    "                      y_pred    : np.ndarray,\n",
    "                      forVisual : bool = True,\n",
    "                     ):\n",
    "    TheReport = classification_report(y_test, y_pred, output_dict = True)\n",
    "    TheReport = pd.DataFrame(TheReport).transpose()\n",
    "    TheReport = TheReport.drop(['accuracy', 'macro avg', 'weighted avg'], errors='ignore')\n",
    "    Stunts    = {'0': 'Tidak Stunting', '1': 'Stunting'}\n",
    "    TheReport = TheReport.rename(index = Stunts)\n",
    "    if not forVisual:\n",
    "        return TheReport\n",
    "\n",
    "    plt.figure(figsize=(12, 3))\n",
    "    ax = TheReport[['precision', 'recall', 'f1-score']].plot(\n",
    "                kind  = 'bar',\n",
    "                color = ['#1f77b4', '#ff7f0e', '#2ca02c'],\n",
    "                width = 0.7,\n",
    "                alpha = 0.8)\n",
    "    plt.title('Model XGBoost untuk Prediksi Stunting', pad = 20, fontsize = 18)\n",
    "    plt.xlabel('Kelas Klasifikasi', labelpad=10)\n",
    "    plt.ylabel('Score', labelpad=10)\n",
    "    plt.xticks(rotation=0)\n",
    "    plt.ylim(0, 1.1)\n",
    "\n",
    "    for p in ax.patches:\n",
    "        ax.annotate(\n",
    "            f'{p.get_height()*100:,.1f}%',\n",
    "            (p.get_x() + p.get_width() / 2., p.get_height()),\n",
    "            ha         = 'center',\n",
    "            va         = 'center',\n",
    "            xytext     = (0, 10),\n",
    "            textcoords = 'offset points',\n",
    "            fontsize   = 10,\n",
    "            )\n",
    "\n",
    "    plt.legend(loc = 'upper left')\n",
    "    plt.tight_layout()\n",
    "\n",
    "    #plt.savefig('classification_report_stunting.png', dpi=300, bbox_inches='tight')\n",
    "    plt.show()\n",
    "    return None"
   ]
  },
  {
   "cell_type": "code",
   "execution_count": null,
   "metadata": {
    "id": "-LcivKf2sGM8"
   },
   "outputs": [],
   "source": [
    "ReportClass_Graph(y_test, y_pred, True)"
   ]
  },
  {
   "cell_type": "code",
   "execution_count": null,
   "metadata": {
    "id": "rXJvkH33_5iP"
   },
   "outputs": [],
   "source": [
    "def ConfusionMatrix_Graph(testdata : np.ndarray,\n",
    "                          prediksi : np.ndarray,\n",
    "                         ) -> None :\n",
    "    ConfMax = confusion_matrix(testdata, prediksi)\n",
    "    case    = ['Tidak Stunting', 'Stunting']\n",
    "\n",
    "    plt.figure(figsize = (8, 6))\n",
    "    ax = sns.heatmap(ConfMax,\n",
    "            annot       = True,\n",
    "            fmt         = 'd',\n",
    "            cmap        = 'Blues',\n",
    "            cbar        = False,\n",
    "            xticklabels = case,\n",
    "            yticklabels = case,\n",
    "            annot_kws   = {'size': 16},\n",
    "        )\n",
    "\n",
    "    plt.title('Confusion Matrix Model XGBoost Prediksi', fontsize = 18, pad = 10)\n",
    "    plt.xlabel('Prediksi', fontsize = 14, labelpad = 15)\n",
    "    plt.ylabel('Aktual', fontsize = 14, labelpad = 15)\n",
    "\n",
    "    x, y = ConfMax.shape[0], ConfMax.shape[1]\n",
    "    ax.axhline(y = 0, color='k', linewidth=2)\n",
    "    ax.axhline(y = y, color='k', linewidth=2)\n",
    "    ax.axvline(x = 0, color='k', linewidth=2)\n",
    "    ax.axvline(x = x, color='k', linewidth=2)\n",
    "\n",
    "    for i in range(x):\n",
    "        for j in range(y):\n",
    "            text_color = 'white' if ConfMax[i, j] > ConfMax.max()/2 else 'black'\n",
    "            ax.text(j + 0.5, i + 0.5, str(ConfMax[i, j]),\n",
    "            ha       = 'center',\n",
    "            va       = 'center',\n",
    "            color    = text_color,\n",
    "            fontsize = 14)\n",
    "\n",
    "    plt.tight_layout()\n",
    "    plt.show()"
   ]
  },
  {
   "cell_type": "code",
   "execution_count": null,
   "metadata": {
    "id": "o-arYjRlHbvw"
   },
   "outputs": [],
   "source": [
    "ConfusionMatrix_Graph(y_test, y_pred)"
   ]
  },
  {
   "cell_type": "code",
   "execution_count": null,
   "metadata": {
    "id": "xLZi_LA34b0a"
   },
   "outputs": [],
   "source": []
  },
  {
   "cell_type": "markdown",
   "metadata": {
    "id": "JmfDiH1k4cHL"
   },
   "source": [
    "# Optimalkan Parameter XGBoost"
   ]
  },
  {
   "cell_type": "code",
   "execution_count": null,
   "metadata": {
    "id": "80wAOCO7cLEP"
   },
   "outputs": [],
   "source": [
    "from optuna import create_study as CS\n",
    "from functools import partial\n",
    "from sklearn.model_selection import cross_val_score\n",
    "\n",
    "def SasaranOptimasi(trial : object,\n",
    "                    X : pd.DataFrame,\n",
    "                    Y : pd.DataFrame,\n",
    "                    akurasi : bool = False,\n",
    "                   ) -> object:\n",
    "    Parameters = {'objective'        : 'binary:logistic',\n",
    "                  'eval_metric'      : 'logloss',\n",
    "                  'n_estimators'     : trial.suggest_int('n_estimators', 1e1, 1e4),\n",
    "                  'learning_rate'    : trial.suggest_float('learning_rate', 0.01, 0.3),\n",
    "                  'max_depth'        : trial.suggest_int('max_depth', 3, 10),\n",
    "                  'subsample'        : trial.suggest_float('subsample', 0.6, 1.0),\n",
    "                  'colsample_bytree' : trial.suggest_float('colsample_bytree', 0.6, 1.0),\n",
    "                  'gamma'            : trial.suggest_float('gamma', 0, 0.5),\n",
    "                  'lambda'           : trial.suggest_float('lambda', 1e-8, 1.0, log = True),\n",
    "                  'alpha'            : trial.suggest_float('alpha', 1e-8, 1.0, log = True),\n",
    "                  'seed'             : 1,\n",
    "                 }\n",
    "    Models = XGBClassifier(**Parameters)\n",
    "    if akurasi:\n",
    "        skor   = cross_val_score(Models, X, Y, cv = 5, scoring = 'accuracy').mean()\n",
    "    else:\n",
    "        skor   = cross_val_score(Models, X, Y, cv = 5, scoring = 'f1_weighted').mean()\n",
    "    return skor\n",
    "\n",
    "ObjectiveOptim = partial(SasaranOptimasi, X = X_train, Y = y_train)\n",
    "\n",
    "Optimalkan = CS(direction = 'maximize')\n",
    "Optimalkan.optimize(ObjectiveOptim, n_trials = 80, show_progress_bar = True)"
   ]
  },
  {
   "cell_type": "code",
   "execution_count": null,
   "metadata": {
    "id": "k79L2UfL5Op7"
   },
   "outputs": [],
   "source": [
    "print(\"Pengujian dan Hasilnya\")\n",
    "print(\"Akurasi sebesar {:.2f}\".format(Optimalkan.best_trial.value))\n",
    "print(\"Berikut Parameter tersebut:\")\n",
    "for key, value in Optimalkan.best_trial.params.items():\n",
    "    print(\"\\t{}: {:,.3f}\".format(key, value))"
   ]
  },
  {
   "cell_type": "code",
   "execution_count": null,
   "metadata": {
    "id": "_WYZzgYs5Om4"
   },
   "outputs": [],
   "source": [
    "BestParameter = Optimalkan.best_trial.params\n",
    "BestModel = XGBClassifier(**BestParameter, random_state = 1, enable_categorical = True)\n",
    "BestModel.fit(X_train, y_train)"
   ]
  },
  {
   "cell_type": "code",
   "execution_count": null,
   "metadata": {
    "id": "qoF7-L1v5Oj8"
   },
   "outputs": [],
   "source": [
    "y_predict = BestModel.predict(X_test)\n",
    "Akurasi = accuracy_score(y_test, y_predict)\n",
    "ReportClass_Graph(y_test, y_predict, True)"
   ]
  },
  {
   "cell_type": "code",
   "execution_count": null,
   "metadata": {
    "id": "_ysZPt7n5OgF"
   },
   "outputs": [],
   "source": [
    "ConfusionMatrix_Graph(y_test, y_predict)"
   ]
  },
  {
   "cell_type": "code",
   "execution_count": null,
   "metadata": {
    "id": "XJZ_t9rCH2yz"
   },
   "outputs": [],
   "source": []
  },
  {
   "cell_type": "markdown",
   "metadata": {
    "id": "9341456d"
   },
   "source": [
    "# Next Steps"
   ]
  },
  {
   "cell_type": "code",
   "execution_count": null,
   "metadata": {
    "id": "JXt3hJihDpaM"
   },
   "outputs": [],
   "source": []
  }
 ],
 "metadata": {
  "colab": {
   "collapsed_sections": [
    "zOUlY4kTw2Zk",
    "jRbdDTPB85sK",
    "u68g8iSDxRMf",
    "Cpr1ThdZwoJu",
    "JmfDiH1k4cHL"
   ],
   "provenance": []
  },
  "kernelspec": {
   "display_name": "Python 3 (ipykernel)",
   "language": "python",
   "name": "python3"
  },
  "language_info": {
   "codemirror_mode": {
    "name": "ipython",
    "version": 3
   },
   "file_extension": ".py",
   "mimetype": "text/x-python",
   "name": "python",
   "nbconvert_exporter": "python",
   "pygments_lexer": "ipython3",
   "version": "3.12.3"
  }
 },
 "nbformat": 4,
 "nbformat_minor": 4
}
